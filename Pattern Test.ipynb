{
 "cells": [
  {
   "cell_type": "code",
   "execution_count": 1,
   "metadata": {},
   "outputs": [],
   "source": [
    "import numpy as np\n",
    "import torch\n",
    "import copy\n",
    "import torch.nn.functional as F\n",
    "from torch import nn, optim"
   ]
  },
  {
   "cell_type": "code",
   "execution_count": 2,
   "metadata": {},
   "outputs": [],
   "source": [
    "import pandas as pd\n",
    "\n",
    "import ast\n",
    "import logging"
   ]
  },
  {
   "cell_type": "code",
   "execution_count": 3,
   "metadata": {},
   "outputs": [],
   "source": [
    "from torch.utils.data import Dataset, DataLoader\n",
    "from torchvision import transforms, utils"
   ]
  },
  {
   "cell_type": "code",
   "execution_count": 4,
   "metadata": {},
   "outputs": [],
   "source": [
    "from matplotlib import pyplot as plt\n",
    "from PIL import Image\n",
    "from IPython.display import display\n",
    "import io"
   ]
  },
  {
   "cell_type": "code",
   "execution_count": 14,
   "metadata": {},
   "outputs": [],
   "source": [
    "from google.cloud import storage\n",
    "client = storage.Client()\n",
    "bucket = client.get_bucket('urbandetection')"
   ]
  },
  {
   "cell_type": "code",
   "execution_count": null,
   "metadata": {},
   "outputs": [],
   "source": [
    "def get_transform(train=True):\n",
    "    normalize = transforms.Normalize(\n",
    "        mean=[x / 255.0 for x in [125.3, 123.0, 113.9]],\n",
    "        std=[x / 255.0 for x in [63.0, 62.1, 66.7]])\n",
    "    transform = []\n",
    "    #transform.append(transforms.Resize([224,224]))\n",
    "    if train:\n",
    "        transform.append(transforms.Resize([300, 300]))  \n",
    "        #transform.append(transforms.CenterCrop([224, 224]))          \n",
    "        #transform.append(transforms.CenterCrop(256))\n",
    "        transform.append(transforms.RandomCrop(224))\n",
    "        transform.append(transforms.RandomHorizontalFlip())\n",
    "    else:\n",
    "        transform.append(transforms.Resize([300,300]))\n",
    "        transform.append(transforms.CenterCrop([224, 224]))          \n",
    "\n",
    "    transform.append(transforms.ToTensor())\n",
    "    transform.append(normalize)\n",
    "    return transforms.Compose(transform)\n",
    "\n",
    "class FashionDataset(Dataset):\n",
    "    \n",
    "    def __init__(self, pkl_file, transform=None):\n",
    "        \n",
    "        self.transform = transform\n",
    "        self.items = pd.read_pickle(pkl_file)\n",
    "        \n",
    "        \n",
    "    def __len__(self):\n",
    "        return len(self.items)\n",
    "    \n",
    "    def __getitem__(self, idx):\n",
    "        \n",
    "        rows = self.items.iloc[idx]\n",
    "        \n",
    "        #print(rows)\n",
    "        name = rows['key']\n",
    "        label = rows['패턴']\n",
    "\n",
    "        blob = bucket.get_blob(row['key'])\n",
    "        img_str = blob.download_as_string()\n",
    "        img = Image.open(io.BytesIO(img_str))\n",
    "        \n",
    "        if self.transform is not None:\n",
    "            sample = self.transform(img)\n",
    "        else:\n",
    "            sample = np.asarray(img)\n",
    "            \n",
    "        \n",
    "        return sample, label"
   ]
  }
 ],
 "metadata": {
  "kernelspec": {
   "display_name": "Python 3",
   "language": "python",
   "name": "python3"
  },
  "language_info": {
   "codemirror_mode": {
    "name": "ipython",
    "version": 3
   },
   "file_extension": ".py",
   "mimetype": "text/x-python",
   "name": "python",
   "nbconvert_exporter": "python",
   "pygments_lexer": "ipython3",
   "version": "3.7.4"
  }
 },
 "nbformat": 4,
 "nbformat_minor": 4
}
