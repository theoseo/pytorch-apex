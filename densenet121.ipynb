{
 "cells": [
  {
   "cell_type": "code",
   "execution_count": 4,
   "metadata": {},
   "outputs": [],
   "source": [
    "import numpy as np\n",
    "import copy\n",
    "import torch\n",
    "\n",
    "from torch import nn, optim\n",
    "from PIL import ImageFile\n",
    "\n",
    "from desenet import densenet121\n",
    "\n",
    "ImageFile.LOAD_TRUNCATED_IMAGES = True\n",
    "\n",
    "import warnings\n",
    "warnings.filterwarnings('ignore')"
   ]
  },
  {
   "cell_type": "code",
   "execution_count": 5,
   "metadata": {},
   "outputs": [],
   "source": [
    "multi_gpus = False\n",
    "device = torch.device(\"cuda:0\" if torch.cuda.is_available() else \"cpu\")\n",
    "if torch.cuda.device_count() > 1:\n",
    "    multi_gpus = True\n",
    "    device = torch.device('cuda' if torch.cuda.is_available() else 'cpu')"
   ]
  },
  {
   "cell_type": "code",
   "execution_count": 6,
   "metadata": {},
   "outputs": [],
   "source": [
    "model = densenet121(num_classes=150)"
   ]
  },
  {
   "cell_type": "code",
   "execution_count": 11,
   "metadata": {},
   "outputs": [],
   "source": [
    "import torchvision\n",
    "from torchvision import datasets, transforms\n",
    "\n",
    "def get_transform(random_crop=True):\n",
    "    normalize = transforms.Normalize(\n",
    "        mean=[x / 255.0 for x in [125.3, 123.0, 113.9]],\n",
    "        std=[x / 255.0 for x in [63.0, 62.1, 66.7]])\n",
    "    transform = []\n",
    "    transform.append(transforms.Resize(256))\n",
    "    if random_crop:\n",
    "        transform.append(transforms.RandomResizedCrop(224))\n",
    "        transform.append(transforms.RandomHorizontalFlip())\n",
    "    else:\n",
    "        transform.append(transforms.CenterCrop(224))\n",
    "    transform.append(transforms.ToTensor())\n",
    "    transform.append(normalize)\n",
    "    return transforms.Compose(transform)\n",
    "\n",
    "class CustomDataset(datasets.ImageFolder):\n",
    "    def __getitem__(self, index):\n",
    "        \"\"\"\n",
    "        Args:\n",
    "            index (int): Index\n",
    "\n",
    "        Returns:\n",
    "            tuple: (image_id, sample, target) where target is class_index of\n",
    "                the target class.\n",
    "        \"\"\"\n",
    "        path, target = self.samples[index]\n",
    "        #print(path)\n",
    "        #print(target)\n",
    "        sample = self.loader(path)\n",
    "        if self.transform is not None:\n",
    "            sample = self.transform(sample)\n",
    "        if self.target_transform is not None:\n",
    "            target = self.target_transform(target)\n",
    "\n",
    "        image_id = path.split('/')[-1]\n",
    "\n",
    "        return image_id, sample, target"
   ]
  },
  {
   "cell_type": "code",
   "execution_count": 12,
   "metadata": {},
   "outputs": [],
   "source": [
    "from torch.utils import data\n",
    "\n",
    "data_dir = 'train/train_data'\n",
    "\n",
    "dataset = CustomDataset(data_dir, transform=get_transform(random_crop=True))\n",
    "\n",
    "split_size = int(len(dataset) * 0.9)\n",
    "train_set, valid_set = data.random_split(dataset, [split_size, len(dataset) - split_size])\n",
    "tr_loader = data.DataLoader(dataset=train_set,\n",
    "                            batch_size=256,\n",
    "                            #sampler = RandomIdentitySampler(train_set, 4),\n",
    "                            shuffle=True,\n",
    "                            pin_memory=True,\n",
    "                            num_workers=16)\n",
    "\n",
    "val_loader = data.DataLoader(dataset=valid_set,\n",
    "                             batch_size=256,\n",
    "                             shuffle=False,\n",
    "                            pin_memory=True,                             \n",
    "                            num_workers=16)"
   ]
  },
  {
   "cell_type": "code",
   "execution_count": 13,
   "metadata": {},
   "outputs": [],
   "source": [
    "def count_parameters(model):\n",
    "    return sum(p.numel() for p in model.parameters() if p.requires_grad)"
   ]
  },
  {
   "cell_type": "code",
   "execution_count": 14,
   "metadata": {},
   "outputs": [
    {
     "data": {
      "text/plain": [
       "7107606"
      ]
     },
     "execution_count": 14,
     "metadata": {},
     "output_type": "execute_result"
    }
   ],
   "source": [
    "count_parameters(model)"
   ]
  },
  {
   "cell_type": "code",
   "execution_count": 15,
   "metadata": {},
   "outputs": [
    {
     "name": "stdout",
     "output_type": "stream",
     "text": [
      "using apex synced BN\n"
     ]
    }
   ],
   "source": [
    "import apex\n",
    "print(\"using apex synced BN\")\n",
    "model = apex.parallel.convert_syncbn_model(model)"
   ]
  },
  {
   "cell_type": "code",
   "execution_count": 16,
   "metadata": {},
   "outputs": [],
   "source": [
    "optimizer = optim.SGD(model.parameters(), lr=1., momentum=0.9, weight_decay=1e-4, nesterov=True)"
   ]
  },
  {
   "cell_type": "code",
   "execution_count": 17,
   "metadata": {},
   "outputs": [
    {
     "name": "stdout",
     "output_type": "stream",
     "text": [
      "Selected optimization level O3:  Pure FP16 training.\n",
      "Defaults for this optimization level are:\n",
      "enabled                : True\n",
      "opt_level              : O3\n",
      "cast_model_type        : torch.float16\n",
      "patch_torch_functions  : False\n",
      "keep_batchnorm_fp32    : False\n",
      "master_weights         : False\n",
      "loss_scale             : 1.0\n",
      "Processing user overrides (additional kwargs that are not None)...\n",
      "After processing overrides, optimization options are:\n",
      "enabled                : True\n",
      "opt_level              : O3\n",
      "cast_model_type        : torch.float16\n",
      "patch_torch_functions  : False\n",
      "keep_batchnorm_fp32    : True\n",
      "master_weights         : False\n",
      "loss_scale             : 1.0\n"
     ]
    }
   ],
   "source": [
    "from apex import amp, optimizers\n",
    "\n",
    "model, optimizer = amp.initialize(model.cuda(), optimizer, opt_level='O3',keep_batchnorm_fp32=True)"
   ]
  },
  {
   "cell_type": "code",
   "execution_count": 18,
   "metadata": {},
   "outputs": [],
   "source": [
    "criterion = nn.CrossEntropyLoss().cuda()"
   ]
  },
  {
   "cell_type": "code",
   "execution_count": 19,
   "metadata": {},
   "outputs": [
    {
     "name": "stdout",
     "output_type": "stream",
     "text": [
      "1\n",
      "2\n"
     ]
    },
    {
     "ename": "RuntimeError",
     "evalue": "CUDA out of memory. Tried to allocate 90.00 MiB (GPU 0; 15.75 GiB total capacity; 14.44 GiB already allocated; 78.88 MiB free; 254.47 MiB cached) (malloc at /opt/conda/conda-bld/pytorch_1573049306803/work/c10/cuda/CUDACachingAllocator.cpp:267)\nframe #0: c10::Error::Error(c10::SourceLocation, std::string const&) + 0x47 (0x7f3190977687 in /opt/anaconda3/lib/python3.7/site-packages/torch/lib/libc10.so)\nframe #1: <unknown function> + 0x1ea29 (0x7f3190bbaa29 in /opt/anaconda3/lib/python3.7/site-packages/torch/lib/libc10_cuda.so)\nframe #2: <unknown function> + 0x1fade (0x7f3190bbbade in /opt/anaconda3/lib/python3.7/site-packages/torch/lib/libc10_cuda.so)\nframe #3: at::native::empty_cuda(c10::ArrayRef<long>, c10::TensorOptions const&, c10::optional<c10::MemoryFormat>) + 0x26d (0x7f3162d5036d in /opt/anaconda3/lib/python3.7/site-packages/torch/lib/libtorch.so)\nframe #4: <unknown function> + 0x3d98d18 (0x7f3161341d18 in /opt/anaconda3/lib/python3.7/site-packages/torch/lib/libtorch.so)\nframe #5: <unknown function> + 0x3852408 (0x7f3160dfb408 in /opt/anaconda3/lib/python3.7/site-packages/torch/lib/libtorch.so)\nframe #6: <unknown function> + 0x17a5add (0x7f315ed4eadd in /opt/anaconda3/lib/python3.7/site-packages/torch/lib/libtorch.so)\nframe #7: at::native::empty_like(at::Tensor const&, c10::TensorOptions const&, c10::optional<c10::MemoryFormat>) + 0x4ab (0x7f315ed56e4b in /opt/anaconda3/lib/python3.7/site-packages/torch/lib/libtorch.so)\nframe #8: at::native::empty_like(at::Tensor const&) + 0x3d (0x7f315ed585cd in /opt/anaconda3/lib/python3.7/site-packages/torch/lib/libtorch.so)\nframe #9: <unknown function> + 0x1ac9459 (0x7f315f072459 in /opt/anaconda3/lib/python3.7/site-packages/torch/lib/libtorch.so)\nframe #10: <unknown function> + 0x341f91b (0x7f31609c891b in /opt/anaconda3/lib/python3.7/site-packages/torch/lib/libtorch.so)\nframe #11: <unknown function> + 0x19d3d9d (0x7f315ef7cd9d in /opt/anaconda3/lib/python3.7/site-packages/torch/lib/libtorch.so)\nframe #12: <unknown function> + 0x1d8b6 (0x7f31399638b6 in /opt/anaconda3/lib/python3.7/site-packages/syncbn.cpython-37m-x86_64-linux-gnu.so)\nframe #13: batchnorm_forward_CUDA(at::Tensor, at::Tensor, at::Tensor, c10::optional<at::Tensor>, c10::optional<at::Tensor>) + 0x5e (0x7f313996620e in /opt/anaconda3/lib/python3.7/site-packages/syncbn.cpython-37m-x86_64-linux-gnu.so)\nframe #14: <unknown function> + 0x19722 (0x7f313995f722 in /opt/anaconda3/lib/python3.7/site-packages/syncbn.cpython-37m-x86_64-linux-gnu.so)\nframe #15: <unknown function> + 0x198ae (0x7f313995f8ae in /opt/anaconda3/lib/python3.7/site-packages/syncbn.cpython-37m-x86_64-linux-gnu.so)\nframe #16: <unknown function> + 0x15fa4 (0x7f313995bfa4 in /opt/anaconda3/lib/python3.7/site-packages/syncbn.cpython-37m-x86_64-linux-gnu.so)\nframe #17: _PyMethodDef_RawFastCallKeywords + 0x254 (0x5639a8d73744 in /opt/anaconda3/bin/python)\nframe #18: _PyCFunction_FastCallKeywords + 0x21 (0x5639a8d73861 in /opt/anaconda3/bin/python)\nframe #19: _PyEval_EvalFrameDefault + 0x4ecd (0x5639a8ddf2bd in /opt/anaconda3/bin/python)\nframe #20: _PyEval_EvalCodeWithName + 0xac9 (0x5639a8d23d09 in /opt/anaconda3/bin/python)\nframe #21: _PyFunction_FastCallDict + 0x1d5 (0x5639a8d24635 in /opt/anaconda3/bin/python)\nframe #22: THPFunction_apply(_object*, _object*) + 0x8d6 (0x7f3191267086 in /opt/anaconda3/lib/python3.7/site-packages/torch/lib/libtorch_python.so)\nframe #23: _PyMethodDef_RawFastCallKeywords + 0x1f0 (0x5639a8d736e0 in /opt/anaconda3/bin/python)\nframe #24: _PyCFunction_FastCallKeywords + 0x21 (0x5639a8d73861 in /opt/anaconda3/bin/python)\nframe #25: _PyEval_EvalFrameDefault + 0x4ecd (0x5639a8ddf2bd in /opt/anaconda3/bin/python)\nframe #26: _PyEval_EvalCodeWithName + 0x2f9 (0x5639a8d23539 in /opt/anaconda3/bin/python)\nframe #27: _PyFunction_FastCallDict + 0x1d5 (0x5639a8d24635 in /opt/anaconda3/bin/python)\nframe #28: _PyObject_Call_Prepend + 0x63 (0x5639a8d42e53 in /opt/anaconda3/bin/python)\nframe #29: PyObject_Call + 0x6e (0x5639a8d35dbe in /opt/anaconda3/bin/python)\nframe #30: _PyEval_EvalFrameDefault + 0x1e42 (0x5639a8ddc232 in /opt/anaconda3/bin/python)\nframe #31: _PyEval_EvalCodeWithName + 0x2f9 (0x5639a8d23539 in /opt/anaconda3/bin/python)\nframe #32: _PyFunction_FastCallDict + 0x1d5 (0x5639a8d24635 in /opt/anaconda3/bin/python)\nframe #33: _PyObject_Call_Prepend + 0x63 (0x5639a8d42e53 in /opt/anaconda3/bin/python)\nframe #34: <unknown function> + 0x16ba3a (0x5639a8d7aa3a in /opt/anaconda3/bin/python)\nframe #35: _PyObject_FastCallKeywords + 0x49b (0x5639a8d7b8fb in /opt/anaconda3/bin/python)\nframe #36: _PyEval_EvalFrameDefault + 0x52f8 (0x5639a8ddf6e8 in /opt/anaconda3/bin/python)\nframe #37: _PyFunction_FastCallDict + 0x10b (0x5639a8d2456b in /opt/anaconda3/bin/python)\nframe #38: _PyObject_Call_Prepend + 0x63 (0x5639a8d42e53 in /opt/anaconda3/bin/python)\nframe #39: PyObject_Call + 0x6e (0x5639a8d35dbe in /opt/anaconda3/bin/python)\nframe #40: _PyEval_EvalFrameDefault + 0x1e42 (0x5639a8ddc232 in /opt/anaconda3/bin/python)\nframe #41: _PyEval_EvalCodeWithName + 0x2f9 (0x5639a8d23539 in /opt/anaconda3/bin/python)\nframe #42: _PyFunction_FastCallDict + 0x1d5 (0x5639a8d24635 in /opt/anaconda3/bin/python)\nframe #43: _PyObject_Call_Prepend + 0x63 (0x5639a8d42e53 in /opt/anaconda3/bin/python)\nframe #44: <unknown function> + 0x16ba3a (0x5639a8d7aa3a in /opt/anaconda3/bin/python)\nframe #45: _PyObject_FastCallKeywords + 0x49b (0x5639a8d7b8fb in /opt/anaconda3/bin/python)\nframe #46: _PyEval_EvalFrameDefault + 0x4a96 (0x5639a8ddee86 in /opt/anaconda3/bin/python)\nframe #47: _PyFunction_FastCallDict + 0x10b (0x5639a8d2456b in /opt/anaconda3/bin/python)\nframe #48: _PyObject_Call_Prepend + 0x63 (0x5639a8d42e53 in /opt/anaconda3/bin/python)\nframe #49: PyObject_Call + 0x6e (0x5639a8d35dbe in /opt/anaconda3/bin/python)\nframe #50: _PyEval_EvalFrameDefault + 0x1e42 (0x5639a8ddc232 in /opt/anaconda3/bin/python)\nframe #51: _PyEval_EvalCodeWithName + 0x2f9 (0x5639a8d23539 in /opt/anaconda3/bin/python)\nframe #52: _PyFunction_FastCallDict + 0x1d5 (0x5639a8d24635 in /opt/anaconda3/bin/python)\nframe #53: _PyObject_Call_Prepend + 0x63 (0x5639a8d42e53 in /opt/anaconda3/bin/python)\nframe #54: <unknown function> + 0x16ba3a (0x5639a8d7aa3a in /opt/anaconda3/bin/python)\nframe #55: _PyObject_FastCallKeywords + 0x49b (0x5639a8d7b8fb in /opt/anaconda3/bin/python)\nframe #56: _PyEval_EvalFrameDefault + 0x52f8 (0x5639a8ddf6e8 in /opt/anaconda3/bin/python)\nframe #57: _PyFunction_FastCallDict + 0x10b (0x5639a8d2456b in /opt/anaconda3/bin/python)\nframe #58: _PyObject_Call_Prepend + 0x63 (0x5639a8d42e53 in /opt/anaconda3/bin/python)\nframe #59: PyObject_Call + 0x6e (0x5639a8d35dbe in /opt/anaconda3/bin/python)\nframe #60: _PyEval_EvalFrameDefault + 0x1e42 (0x5639a8ddc232 in /opt/anaconda3/bin/python)\nframe #61: _PyEval_EvalCodeWithName + 0x2f9 (0x5639a8d23539 in /opt/anaconda3/bin/python)\nframe #62: _PyFunction_FastCallDict + 0x1d5 (0x5639a8d24635 in /opt/anaconda3/bin/python)\nframe #63: _PyObject_Call_Prepend + 0x63 (0x5639a8d42e53 in /opt/anaconda3/bin/python)\n",
     "output_type": "error",
     "traceback": [
      "\u001b[0;31m---------------------------------------------------------------------------\u001b[0m",
      "\u001b[0;31mRuntimeError\u001b[0m                              Traceback (most recent call last)",
      "\u001b[0;32m<ipython-input-19-6c3ba4702315>\u001b[0m in \u001b[0;36m<module>\u001b[0;34m\u001b[0m\n\u001b[1;32m     10\u001b[0m     \u001b[0mlabels\u001b[0m \u001b[0;34m=\u001b[0m \u001b[0mlabels\u001b[0m\u001b[0;34m.\u001b[0m\u001b[0mcuda\u001b[0m\u001b[0;34m(\u001b[0m\u001b[0mnon_blocking\u001b[0m\u001b[0;34m=\u001b[0m\u001b[0;32mTrue\u001b[0m\u001b[0;34m)\u001b[0m\u001b[0;34m\u001b[0m\u001b[0;34m\u001b[0m\u001b[0m\n\u001b[1;32m     11\u001b[0m     \u001b[0mprint\u001b[0m\u001b[0;34m(\u001b[0m\u001b[0;36m2\u001b[0m\u001b[0;34m)\u001b[0m\u001b[0;34m\u001b[0m\u001b[0;34m\u001b[0m\u001b[0m\n\u001b[0;32m---> 12\u001b[0;31m     \u001b[0mlogits\u001b[0m \u001b[0;34m=\u001b[0m \u001b[0mmodel\u001b[0m\u001b[0;34m(\u001b[0m\u001b[0minputs\u001b[0m\u001b[0;34m)\u001b[0m\u001b[0;34m\u001b[0m\u001b[0;34m\u001b[0m\u001b[0m\n\u001b[0m\u001b[1;32m     13\u001b[0m     \u001b[0mprint\u001b[0m\u001b[0;34m(\u001b[0m\u001b[0;36m3\u001b[0m\u001b[0;34m)\u001b[0m\u001b[0;34m\u001b[0m\u001b[0;34m\u001b[0m\u001b[0m\n\u001b[1;32m     14\u001b[0m     \u001b[0mloss\u001b[0m \u001b[0;34m=\u001b[0m \u001b[0mcriterion\u001b[0m\u001b[0;34m(\u001b[0m\u001b[0mlogits\u001b[0m\u001b[0;34m,\u001b[0m \u001b[0mlabels\u001b[0m\u001b[0;34m)\u001b[0m\u001b[0;34m\u001b[0m\u001b[0;34m\u001b[0m\u001b[0m\n",
      "\u001b[0;32m/opt/anaconda3/lib/python3.7/site-packages/torch/nn/modules/module.py\u001b[0m in \u001b[0;36m__call__\u001b[0;34m(self, *input, **kwargs)\u001b[0m\n\u001b[1;32m    539\u001b[0m             \u001b[0mresult\u001b[0m \u001b[0;34m=\u001b[0m \u001b[0mself\u001b[0m\u001b[0;34m.\u001b[0m\u001b[0m_slow_forward\u001b[0m\u001b[0;34m(\u001b[0m\u001b[0;34m*\u001b[0m\u001b[0minput\u001b[0m\u001b[0;34m,\u001b[0m \u001b[0;34m**\u001b[0m\u001b[0mkwargs\u001b[0m\u001b[0;34m)\u001b[0m\u001b[0;34m\u001b[0m\u001b[0;34m\u001b[0m\u001b[0m\n\u001b[1;32m    540\u001b[0m         \u001b[0;32melse\u001b[0m\u001b[0;34m:\u001b[0m\u001b[0;34m\u001b[0m\u001b[0;34m\u001b[0m\u001b[0m\n\u001b[0;32m--> 541\u001b[0;31m             \u001b[0mresult\u001b[0m \u001b[0;34m=\u001b[0m \u001b[0mself\u001b[0m\u001b[0;34m.\u001b[0m\u001b[0mforward\u001b[0m\u001b[0;34m(\u001b[0m\u001b[0;34m*\u001b[0m\u001b[0minput\u001b[0m\u001b[0;34m,\u001b[0m \u001b[0;34m**\u001b[0m\u001b[0mkwargs\u001b[0m\u001b[0;34m)\u001b[0m\u001b[0;34m\u001b[0m\u001b[0;34m\u001b[0m\u001b[0m\n\u001b[0m\u001b[1;32m    542\u001b[0m         \u001b[0;32mfor\u001b[0m \u001b[0mhook\u001b[0m \u001b[0;32min\u001b[0m \u001b[0mself\u001b[0m\u001b[0;34m.\u001b[0m\u001b[0m_forward_hooks\u001b[0m\u001b[0;34m.\u001b[0m\u001b[0mvalues\u001b[0m\u001b[0;34m(\u001b[0m\u001b[0;34m)\u001b[0m\u001b[0;34m:\u001b[0m\u001b[0;34m\u001b[0m\u001b[0;34m\u001b[0m\u001b[0m\n\u001b[1;32m    543\u001b[0m             \u001b[0mhook_result\u001b[0m \u001b[0;34m=\u001b[0m \u001b[0mhook\u001b[0m\u001b[0;34m(\u001b[0m\u001b[0mself\u001b[0m\u001b[0;34m,\u001b[0m \u001b[0minput\u001b[0m\u001b[0;34m,\u001b[0m \u001b[0mresult\u001b[0m\u001b[0;34m)\u001b[0m\u001b[0;34m\u001b[0m\u001b[0;34m\u001b[0m\u001b[0m\n",
      "\u001b[0;32m/opt/anaconda3/lib/python3.7/site-packages/apex/amp/_initialize.py\u001b[0m in \u001b[0;36mnew_fwd\u001b[0;34m(*args, **kwargs)\u001b[0m\n\u001b[1;32m    195\u001b[0m                 \u001b[0;32mdef\u001b[0m \u001b[0mnew_fwd\u001b[0m\u001b[0;34m(\u001b[0m\u001b[0;34m*\u001b[0m\u001b[0margs\u001b[0m\u001b[0;34m,\u001b[0m \u001b[0;34m**\u001b[0m\u001b[0mkwargs\u001b[0m\u001b[0;34m)\u001b[0m\u001b[0;34m:\u001b[0m\u001b[0;34m\u001b[0m\u001b[0;34m\u001b[0m\u001b[0m\n\u001b[1;32m    196\u001b[0m                     output = old_fwd(*applier(args, input_caster),\n\u001b[0;32m--> 197\u001b[0;31m                                      **applier(kwargs, input_caster))\n\u001b[0m\u001b[1;32m    198\u001b[0m                     \u001b[0;32mreturn\u001b[0m \u001b[0mapplier\u001b[0m\u001b[0;34m(\u001b[0m\u001b[0moutput\u001b[0m\u001b[0;34m,\u001b[0m \u001b[0moutput_caster\u001b[0m\u001b[0;34m)\u001b[0m\u001b[0;34m\u001b[0m\u001b[0;34m\u001b[0m\u001b[0m\n\u001b[1;32m    199\u001b[0m                 \u001b[0;32mreturn\u001b[0m \u001b[0mnew_fwd\u001b[0m\u001b[0;34m\u001b[0m\u001b[0;34m\u001b[0m\u001b[0m\n",
      "\u001b[0;32m~/desenet.py\u001b[0m in \u001b[0;36mforward\u001b[0;34m(self, x, feature)\u001b[0m\n\u001b[1;32m    145\u001b[0m         \u001b[0mx\u001b[0m \u001b[0;34m=\u001b[0m \u001b[0mself\u001b[0m\u001b[0;34m.\u001b[0m\u001b[0mtrans1\u001b[0m\u001b[0;34m(\u001b[0m\u001b[0mself\u001b[0m\u001b[0;34m.\u001b[0m\u001b[0mblock1\u001b[0m\u001b[0;34m(\u001b[0m\u001b[0mx\u001b[0m\u001b[0;34m)\u001b[0m\u001b[0;34m)\u001b[0m\u001b[0;34m\u001b[0m\u001b[0;34m\u001b[0m\u001b[0m\n\u001b[1;32m    146\u001b[0m         \u001b[0mx\u001b[0m \u001b[0;34m=\u001b[0m \u001b[0mself\u001b[0m\u001b[0;34m.\u001b[0m\u001b[0mtrans2\u001b[0m\u001b[0;34m(\u001b[0m\u001b[0mself\u001b[0m\u001b[0;34m.\u001b[0m\u001b[0mblock2\u001b[0m\u001b[0;34m(\u001b[0m\u001b[0mx\u001b[0m\u001b[0;34m)\u001b[0m\u001b[0;34m)\u001b[0m\u001b[0;34m\u001b[0m\u001b[0;34m\u001b[0m\u001b[0m\n\u001b[0;32m--> 147\u001b[0;31m         \u001b[0mx\u001b[0m \u001b[0;34m=\u001b[0m \u001b[0mself\u001b[0m\u001b[0;34m.\u001b[0m\u001b[0mtrans3\u001b[0m\u001b[0;34m(\u001b[0m\u001b[0mself\u001b[0m\u001b[0;34m.\u001b[0m\u001b[0mblock3\u001b[0m\u001b[0;34m(\u001b[0m\u001b[0mx\u001b[0m\u001b[0;34m)\u001b[0m\u001b[0;34m)\u001b[0m\u001b[0;34m\u001b[0m\u001b[0;34m\u001b[0m\u001b[0m\n\u001b[0m\u001b[1;32m    148\u001b[0m         \u001b[0mx\u001b[0m \u001b[0;34m=\u001b[0m \u001b[0mself\u001b[0m\u001b[0;34m.\u001b[0m\u001b[0mblock4\u001b[0m\u001b[0;34m(\u001b[0m\u001b[0mx\u001b[0m\u001b[0;34m)\u001b[0m\u001b[0;34m\u001b[0m\u001b[0;34m\u001b[0m\u001b[0m\n\u001b[1;32m    149\u001b[0m         \u001b[0mx\u001b[0m \u001b[0;34m=\u001b[0m \u001b[0mself\u001b[0m\u001b[0;34m.\u001b[0m\u001b[0mrelu_final\u001b[0m\u001b[0;34m(\u001b[0m\u001b[0mself\u001b[0m\u001b[0;34m.\u001b[0m\u001b[0mfinal_bn\u001b[0m\u001b[0;34m(\u001b[0m\u001b[0mx\u001b[0m\u001b[0;34m)\u001b[0m\u001b[0;34m)\u001b[0m\u001b[0;34m\u001b[0m\u001b[0;34m\u001b[0m\u001b[0m\n",
      "\u001b[0;32m/opt/anaconda3/lib/python3.7/site-packages/torch/nn/modules/module.py\u001b[0m in \u001b[0;36m__call__\u001b[0;34m(self, *input, **kwargs)\u001b[0m\n\u001b[1;32m    539\u001b[0m             \u001b[0mresult\u001b[0m \u001b[0;34m=\u001b[0m \u001b[0mself\u001b[0m\u001b[0;34m.\u001b[0m\u001b[0m_slow_forward\u001b[0m\u001b[0;34m(\u001b[0m\u001b[0;34m*\u001b[0m\u001b[0minput\u001b[0m\u001b[0;34m,\u001b[0m \u001b[0;34m**\u001b[0m\u001b[0mkwargs\u001b[0m\u001b[0;34m)\u001b[0m\u001b[0;34m\u001b[0m\u001b[0;34m\u001b[0m\u001b[0m\n\u001b[1;32m    540\u001b[0m         \u001b[0;32melse\u001b[0m\u001b[0;34m:\u001b[0m\u001b[0;34m\u001b[0m\u001b[0;34m\u001b[0m\u001b[0m\n\u001b[0;32m--> 541\u001b[0;31m             \u001b[0mresult\u001b[0m \u001b[0;34m=\u001b[0m \u001b[0mself\u001b[0m\u001b[0;34m.\u001b[0m\u001b[0mforward\u001b[0m\u001b[0;34m(\u001b[0m\u001b[0;34m*\u001b[0m\u001b[0minput\u001b[0m\u001b[0;34m,\u001b[0m \u001b[0;34m**\u001b[0m\u001b[0mkwargs\u001b[0m\u001b[0;34m)\u001b[0m\u001b[0;34m\u001b[0m\u001b[0;34m\u001b[0m\u001b[0m\n\u001b[0m\u001b[1;32m    542\u001b[0m         \u001b[0;32mfor\u001b[0m \u001b[0mhook\u001b[0m \u001b[0;32min\u001b[0m \u001b[0mself\u001b[0m\u001b[0;34m.\u001b[0m\u001b[0m_forward_hooks\u001b[0m\u001b[0;34m.\u001b[0m\u001b[0mvalues\u001b[0m\u001b[0;34m(\u001b[0m\u001b[0;34m)\u001b[0m\u001b[0;34m:\u001b[0m\u001b[0;34m\u001b[0m\u001b[0;34m\u001b[0m\u001b[0m\n\u001b[1;32m    543\u001b[0m             \u001b[0mhook_result\u001b[0m \u001b[0;34m=\u001b[0m \u001b[0mhook\u001b[0m\u001b[0;34m(\u001b[0m\u001b[0mself\u001b[0m\u001b[0;34m,\u001b[0m \u001b[0minput\u001b[0m\u001b[0;34m,\u001b[0m \u001b[0mresult\u001b[0m\u001b[0;34m)\u001b[0m\u001b[0;34m\u001b[0m\u001b[0;34m\u001b[0m\u001b[0m\n",
      "\u001b[0;32m~/desenet.py\u001b[0m in \u001b[0;36mforward\u001b[0;34m(self, x)\u001b[0m\n\u001b[1;32m     72\u001b[0m \u001b[0;34m\u001b[0m\u001b[0m\n\u001b[1;32m     73\u001b[0m     \u001b[0;32mdef\u001b[0m \u001b[0mforward\u001b[0m\u001b[0;34m(\u001b[0m\u001b[0mself\u001b[0m\u001b[0;34m,\u001b[0m \u001b[0mx\u001b[0m\u001b[0;34m)\u001b[0m\u001b[0;34m:\u001b[0m\u001b[0;34m\u001b[0m\u001b[0;34m\u001b[0m\u001b[0m\n\u001b[0;32m---> 74\u001b[0;31m         \u001b[0;32mreturn\u001b[0m \u001b[0mself\u001b[0m\u001b[0;34m.\u001b[0m\u001b[0mlayer\u001b[0m\u001b[0;34m(\u001b[0m\u001b[0mx\u001b[0m\u001b[0;34m)\u001b[0m\u001b[0;34m\u001b[0m\u001b[0;34m\u001b[0m\u001b[0m\n\u001b[0m\u001b[1;32m     75\u001b[0m \u001b[0;34m\u001b[0m\u001b[0m\n\u001b[1;32m     76\u001b[0m \u001b[0;32mclass\u001b[0m \u001b[0mDenseNet\u001b[0m\u001b[0;34m(\u001b[0m\u001b[0mnn\u001b[0m\u001b[0;34m.\u001b[0m\u001b[0mModule\u001b[0m\u001b[0;34m)\u001b[0m\u001b[0;34m:\u001b[0m\u001b[0;34m\u001b[0m\u001b[0;34m\u001b[0m\u001b[0m\n",
      "\u001b[0;32m/opt/anaconda3/lib/python3.7/site-packages/torch/nn/modules/module.py\u001b[0m in \u001b[0;36m__call__\u001b[0;34m(self, *input, **kwargs)\u001b[0m\n\u001b[1;32m    539\u001b[0m             \u001b[0mresult\u001b[0m \u001b[0;34m=\u001b[0m \u001b[0mself\u001b[0m\u001b[0;34m.\u001b[0m\u001b[0m_slow_forward\u001b[0m\u001b[0;34m(\u001b[0m\u001b[0;34m*\u001b[0m\u001b[0minput\u001b[0m\u001b[0;34m,\u001b[0m \u001b[0;34m**\u001b[0m\u001b[0mkwargs\u001b[0m\u001b[0;34m)\u001b[0m\u001b[0;34m\u001b[0m\u001b[0;34m\u001b[0m\u001b[0m\n\u001b[1;32m    540\u001b[0m         \u001b[0;32melse\u001b[0m\u001b[0;34m:\u001b[0m\u001b[0;34m\u001b[0m\u001b[0;34m\u001b[0m\u001b[0m\n\u001b[0;32m--> 541\u001b[0;31m             \u001b[0mresult\u001b[0m \u001b[0;34m=\u001b[0m \u001b[0mself\u001b[0m\u001b[0;34m.\u001b[0m\u001b[0mforward\u001b[0m\u001b[0;34m(\u001b[0m\u001b[0;34m*\u001b[0m\u001b[0minput\u001b[0m\u001b[0;34m,\u001b[0m \u001b[0;34m**\u001b[0m\u001b[0mkwargs\u001b[0m\u001b[0;34m)\u001b[0m\u001b[0;34m\u001b[0m\u001b[0;34m\u001b[0m\u001b[0m\n\u001b[0m\u001b[1;32m    542\u001b[0m         \u001b[0;32mfor\u001b[0m \u001b[0mhook\u001b[0m \u001b[0;32min\u001b[0m \u001b[0mself\u001b[0m\u001b[0;34m.\u001b[0m\u001b[0m_forward_hooks\u001b[0m\u001b[0;34m.\u001b[0m\u001b[0mvalues\u001b[0m\u001b[0;34m(\u001b[0m\u001b[0;34m)\u001b[0m\u001b[0;34m:\u001b[0m\u001b[0;34m\u001b[0m\u001b[0;34m\u001b[0m\u001b[0m\n\u001b[1;32m    543\u001b[0m             \u001b[0mhook_result\u001b[0m \u001b[0;34m=\u001b[0m \u001b[0mhook\u001b[0m\u001b[0;34m(\u001b[0m\u001b[0mself\u001b[0m\u001b[0;34m,\u001b[0m \u001b[0minput\u001b[0m\u001b[0;34m,\u001b[0m \u001b[0mresult\u001b[0m\u001b[0;34m)\u001b[0m\u001b[0;34m\u001b[0m\u001b[0;34m\u001b[0m\u001b[0m\n",
      "\u001b[0;32m/opt/anaconda3/lib/python3.7/site-packages/torch/nn/modules/container.py\u001b[0m in \u001b[0;36mforward\u001b[0;34m(self, input)\u001b[0m\n\u001b[1;32m     90\u001b[0m     \u001b[0;32mdef\u001b[0m \u001b[0mforward\u001b[0m\u001b[0;34m(\u001b[0m\u001b[0mself\u001b[0m\u001b[0;34m,\u001b[0m \u001b[0minput\u001b[0m\u001b[0;34m)\u001b[0m\u001b[0;34m:\u001b[0m\u001b[0;34m\u001b[0m\u001b[0;34m\u001b[0m\u001b[0m\n\u001b[1;32m     91\u001b[0m         \u001b[0;32mfor\u001b[0m \u001b[0mmodule\u001b[0m \u001b[0;32min\u001b[0m \u001b[0mself\u001b[0m\u001b[0;34m.\u001b[0m\u001b[0m_modules\u001b[0m\u001b[0;34m.\u001b[0m\u001b[0mvalues\u001b[0m\u001b[0;34m(\u001b[0m\u001b[0;34m)\u001b[0m\u001b[0;34m:\u001b[0m\u001b[0;34m\u001b[0m\u001b[0;34m\u001b[0m\u001b[0m\n\u001b[0;32m---> 92\u001b[0;31m             \u001b[0minput\u001b[0m \u001b[0;34m=\u001b[0m \u001b[0mmodule\u001b[0m\u001b[0;34m(\u001b[0m\u001b[0minput\u001b[0m\u001b[0;34m)\u001b[0m\u001b[0;34m\u001b[0m\u001b[0;34m\u001b[0m\u001b[0m\n\u001b[0m\u001b[1;32m     93\u001b[0m         \u001b[0;32mreturn\u001b[0m \u001b[0minput\u001b[0m\u001b[0;34m\u001b[0m\u001b[0;34m\u001b[0m\u001b[0m\n\u001b[1;32m     94\u001b[0m \u001b[0;34m\u001b[0m\u001b[0m\n",
      "\u001b[0;32m/opt/anaconda3/lib/python3.7/site-packages/torch/nn/modules/module.py\u001b[0m in \u001b[0;36m__call__\u001b[0;34m(self, *input, **kwargs)\u001b[0m\n\u001b[1;32m    539\u001b[0m             \u001b[0mresult\u001b[0m \u001b[0;34m=\u001b[0m \u001b[0mself\u001b[0m\u001b[0;34m.\u001b[0m\u001b[0m_slow_forward\u001b[0m\u001b[0;34m(\u001b[0m\u001b[0;34m*\u001b[0m\u001b[0minput\u001b[0m\u001b[0;34m,\u001b[0m \u001b[0;34m**\u001b[0m\u001b[0mkwargs\u001b[0m\u001b[0;34m)\u001b[0m\u001b[0;34m\u001b[0m\u001b[0;34m\u001b[0m\u001b[0m\n\u001b[1;32m    540\u001b[0m         \u001b[0;32melse\u001b[0m\u001b[0;34m:\u001b[0m\u001b[0;34m\u001b[0m\u001b[0;34m\u001b[0m\u001b[0m\n\u001b[0;32m--> 541\u001b[0;31m             \u001b[0mresult\u001b[0m \u001b[0;34m=\u001b[0m \u001b[0mself\u001b[0m\u001b[0;34m.\u001b[0m\u001b[0mforward\u001b[0m\u001b[0;34m(\u001b[0m\u001b[0;34m*\u001b[0m\u001b[0minput\u001b[0m\u001b[0;34m,\u001b[0m \u001b[0;34m**\u001b[0m\u001b[0mkwargs\u001b[0m\u001b[0;34m)\u001b[0m\u001b[0;34m\u001b[0m\u001b[0;34m\u001b[0m\u001b[0m\n\u001b[0m\u001b[1;32m    542\u001b[0m         \u001b[0;32mfor\u001b[0m \u001b[0mhook\u001b[0m \u001b[0;32min\u001b[0m \u001b[0mself\u001b[0m\u001b[0;34m.\u001b[0m\u001b[0m_forward_hooks\u001b[0m\u001b[0;34m.\u001b[0m\u001b[0mvalues\u001b[0m\u001b[0;34m(\u001b[0m\u001b[0;34m)\u001b[0m\u001b[0;34m:\u001b[0m\u001b[0;34m\u001b[0m\u001b[0;34m\u001b[0m\u001b[0m\n\u001b[1;32m    543\u001b[0m             \u001b[0mhook_result\u001b[0m \u001b[0;34m=\u001b[0m \u001b[0mhook\u001b[0m\u001b[0;34m(\u001b[0m\u001b[0mself\u001b[0m\u001b[0;34m,\u001b[0m \u001b[0minput\u001b[0m\u001b[0;34m,\u001b[0m \u001b[0mresult\u001b[0m\u001b[0;34m)\u001b[0m\u001b[0;34m\u001b[0m\u001b[0;34m\u001b[0m\u001b[0m\n",
      "\u001b[0;32m~/desenet.py\u001b[0m in \u001b[0;36mforward\u001b[0;34m(self, x)\u001b[0m\n\u001b[1;32m     37\u001b[0m \u001b[0;34m\u001b[0m\u001b[0m\n\u001b[1;32m     38\u001b[0m     \u001b[0;32mdef\u001b[0m \u001b[0mforward\u001b[0m\u001b[0;34m(\u001b[0m\u001b[0mself\u001b[0m\u001b[0;34m,\u001b[0m \u001b[0mx\u001b[0m\u001b[0;34m)\u001b[0m\u001b[0;34m:\u001b[0m\u001b[0;34m\u001b[0m\u001b[0;34m\u001b[0m\u001b[0m\n\u001b[0;32m---> 39\u001b[0;31m         \u001b[0mout\u001b[0m \u001b[0;34m=\u001b[0m \u001b[0mself\u001b[0m\u001b[0;34m.\u001b[0m\u001b[0mconv1\u001b[0m\u001b[0;34m(\u001b[0m\u001b[0mself\u001b[0m\u001b[0;34m.\u001b[0m\u001b[0mrelu\u001b[0m\u001b[0;34m(\u001b[0m\u001b[0mself\u001b[0m\u001b[0;34m.\u001b[0m\u001b[0mbn1\u001b[0m\u001b[0;34m(\u001b[0m\u001b[0mx\u001b[0m\u001b[0;34m)\u001b[0m\u001b[0;34m)\u001b[0m\u001b[0;34m)\u001b[0m\u001b[0;34m\u001b[0m\u001b[0;34m\u001b[0m\u001b[0m\n\u001b[0m\u001b[1;32m     40\u001b[0m         \u001b[0;32mif\u001b[0m \u001b[0mself\u001b[0m\u001b[0;34m.\u001b[0m\u001b[0mdroprate\u001b[0m \u001b[0;34m>\u001b[0m \u001b[0;36m0\u001b[0m\u001b[0;34m:\u001b[0m\u001b[0;34m\u001b[0m\u001b[0;34m\u001b[0m\u001b[0m\n\u001b[1;32m     41\u001b[0m             \u001b[0mout\u001b[0m \u001b[0;34m=\u001b[0m \u001b[0mF\u001b[0m\u001b[0;34m.\u001b[0m\u001b[0mdropout\u001b[0m\u001b[0;34m(\u001b[0m\u001b[0mout\u001b[0m\u001b[0;34m,\u001b[0m \u001b[0mp\u001b[0m\u001b[0;34m=\u001b[0m\u001b[0mself\u001b[0m\u001b[0;34m.\u001b[0m\u001b[0mdroprate\u001b[0m\u001b[0;34m,\u001b[0m \u001b[0minplace\u001b[0m\u001b[0;34m=\u001b[0m\u001b[0;32mFalse\u001b[0m\u001b[0;34m,\u001b[0m \u001b[0mtraining\u001b[0m\u001b[0;34m=\u001b[0m\u001b[0mself\u001b[0m\u001b[0;34m.\u001b[0m\u001b[0mtraining\u001b[0m\u001b[0;34m)\u001b[0m\u001b[0;34m\u001b[0m\u001b[0;34m\u001b[0m\u001b[0m\n",
      "\u001b[0;32m/opt/anaconda3/lib/python3.7/site-packages/torch/nn/modules/module.py\u001b[0m in \u001b[0;36m__call__\u001b[0;34m(self, *input, **kwargs)\u001b[0m\n\u001b[1;32m    539\u001b[0m             \u001b[0mresult\u001b[0m \u001b[0;34m=\u001b[0m \u001b[0mself\u001b[0m\u001b[0;34m.\u001b[0m\u001b[0m_slow_forward\u001b[0m\u001b[0;34m(\u001b[0m\u001b[0;34m*\u001b[0m\u001b[0minput\u001b[0m\u001b[0;34m,\u001b[0m \u001b[0;34m**\u001b[0m\u001b[0mkwargs\u001b[0m\u001b[0;34m)\u001b[0m\u001b[0;34m\u001b[0m\u001b[0;34m\u001b[0m\u001b[0m\n\u001b[1;32m    540\u001b[0m         \u001b[0;32melse\u001b[0m\u001b[0;34m:\u001b[0m\u001b[0;34m\u001b[0m\u001b[0;34m\u001b[0m\u001b[0m\n\u001b[0;32m--> 541\u001b[0;31m             \u001b[0mresult\u001b[0m \u001b[0;34m=\u001b[0m \u001b[0mself\u001b[0m\u001b[0;34m.\u001b[0m\u001b[0mforward\u001b[0m\u001b[0;34m(\u001b[0m\u001b[0;34m*\u001b[0m\u001b[0minput\u001b[0m\u001b[0;34m,\u001b[0m \u001b[0;34m**\u001b[0m\u001b[0mkwargs\u001b[0m\u001b[0;34m)\u001b[0m\u001b[0;34m\u001b[0m\u001b[0;34m\u001b[0m\u001b[0m\n\u001b[0m\u001b[1;32m    542\u001b[0m         \u001b[0;32mfor\u001b[0m \u001b[0mhook\u001b[0m \u001b[0;32min\u001b[0m \u001b[0mself\u001b[0m\u001b[0;34m.\u001b[0m\u001b[0m_forward_hooks\u001b[0m\u001b[0;34m.\u001b[0m\u001b[0mvalues\u001b[0m\u001b[0;34m(\u001b[0m\u001b[0;34m)\u001b[0m\u001b[0;34m:\u001b[0m\u001b[0;34m\u001b[0m\u001b[0;34m\u001b[0m\u001b[0m\n\u001b[1;32m    543\u001b[0m             \u001b[0mhook_result\u001b[0m \u001b[0;34m=\u001b[0m \u001b[0mhook\u001b[0m\u001b[0;34m(\u001b[0m\u001b[0mself\u001b[0m\u001b[0;34m,\u001b[0m \u001b[0minput\u001b[0m\u001b[0;34m,\u001b[0m \u001b[0mresult\u001b[0m\u001b[0;34m)\u001b[0m\u001b[0;34m\u001b[0m\u001b[0;34m\u001b[0m\u001b[0m\n",
      "\u001b[0;32m/opt/anaconda3/lib/python3.7/site-packages/apex/parallel/optimized_sync_batchnorm.py\u001b[0m in \u001b[0;36mforward\u001b[0;34m(self, input, z)\u001b[0m\n\u001b[1;32m     83\u001b[0m                 \u001b[0;32melse\u001b[0m\u001b[0;34m:\u001b[0m\u001b[0;34m\u001b[0m\u001b[0;34m\u001b[0m\u001b[0m\n\u001b[1;32m     84\u001b[0m                     \u001b[0mexponential_average_factor\u001b[0m \u001b[0;34m=\u001b[0m \u001b[0mself\u001b[0m\u001b[0;34m.\u001b[0m\u001b[0mmomentum\u001b[0m\u001b[0;34m\u001b[0m\u001b[0;34m\u001b[0m\u001b[0m\n\u001b[0;32m---> 85\u001b[0;31m             \u001b[0;32mreturn\u001b[0m \u001b[0mSyncBatchnormFunction\u001b[0m\u001b[0;34m.\u001b[0m\u001b[0mapply\u001b[0m\u001b[0;34m(\u001b[0m\u001b[0minput\u001b[0m\u001b[0;34m,\u001b[0m \u001b[0mz\u001b[0m\u001b[0;34m,\u001b[0m \u001b[0mself\u001b[0m\u001b[0;34m.\u001b[0m\u001b[0mweight\u001b[0m\u001b[0;34m,\u001b[0m \u001b[0mself\u001b[0m\u001b[0;34m.\u001b[0m\u001b[0mbias\u001b[0m\u001b[0;34m,\u001b[0m \u001b[0mself\u001b[0m\u001b[0;34m.\u001b[0m\u001b[0mrunning_mean\u001b[0m\u001b[0;34m,\u001b[0m \u001b[0mself\u001b[0m\u001b[0;34m.\u001b[0m\u001b[0mrunning_var\u001b[0m\u001b[0;34m,\u001b[0m \u001b[0mself\u001b[0m\u001b[0;34m.\u001b[0m\u001b[0meps\u001b[0m\u001b[0;34m,\u001b[0m \u001b[0mself\u001b[0m\u001b[0;34m.\u001b[0m\u001b[0mtraining\u001b[0m \u001b[0;32mor\u001b[0m \u001b[0;32mnot\u001b[0m \u001b[0mself\u001b[0m\u001b[0;34m.\u001b[0m\u001b[0mtrack_running_stats\u001b[0m\u001b[0;34m,\u001b[0m \u001b[0mexponential_average_factor\u001b[0m\u001b[0;34m,\u001b[0m \u001b[0mself\u001b[0m\u001b[0;34m.\u001b[0m\u001b[0mprocess_group\u001b[0m\u001b[0;34m,\u001b[0m \u001b[0mchannel_last\u001b[0m\u001b[0;34m,\u001b[0m \u001b[0mself\u001b[0m\u001b[0;34m.\u001b[0m\u001b[0mfuse_relu\u001b[0m\u001b[0;34m)\u001b[0m\u001b[0;34m\u001b[0m\u001b[0;34m\u001b[0m\u001b[0m\n\u001b[0m",
      "\u001b[0;32m/opt/anaconda3/lib/python3.7/site-packages/apex/parallel/optimized_sync_batchnorm_kernel.py\u001b[0m in \u001b[0;36mforward\u001b[0;34m(ctx, input, z, weight, bias, running_mean, running_variance, eps, track_running_stats, momentum, process_group, channel_last, fuse_relu)\u001b[0m\n\u001b[1;32m     62\u001b[0m             \u001b[0mout\u001b[0m \u001b[0;34m=\u001b[0m \u001b[0msyncbn\u001b[0m\u001b[0;34m.\u001b[0m\u001b[0mbatchnorm_forward_c_last\u001b[0m\u001b[0;34m(\u001b[0m\u001b[0minput\u001b[0m\u001b[0;34m,\u001b[0m \u001b[0mz\u001b[0m\u001b[0;34m,\u001b[0m \u001b[0mmean\u001b[0m\u001b[0;34m,\u001b[0m \u001b[0minv_std\u001b[0m\u001b[0;34m,\u001b[0m \u001b[0mweight\u001b[0m\u001b[0;34m,\u001b[0m \u001b[0mbias\u001b[0m\u001b[0;34m,\u001b[0m \u001b[0mfuse_relu\u001b[0m\u001b[0;34m)\u001b[0m\u001b[0;34m\u001b[0m\u001b[0;34m\u001b[0m\u001b[0m\n\u001b[1;32m     63\u001b[0m         \u001b[0;32melse\u001b[0m\u001b[0;34m:\u001b[0m\u001b[0;34m\u001b[0m\u001b[0;34m\u001b[0m\u001b[0m\n\u001b[0;32m---> 64\u001b[0;31m             \u001b[0mout\u001b[0m \u001b[0;34m=\u001b[0m \u001b[0msyncbn\u001b[0m\u001b[0;34m.\u001b[0m\u001b[0mbatchnorm_forward\u001b[0m\u001b[0;34m(\u001b[0m\u001b[0minput\u001b[0m\u001b[0;34m,\u001b[0m \u001b[0mmean\u001b[0m\u001b[0;34m,\u001b[0m \u001b[0minv_std\u001b[0m\u001b[0;34m,\u001b[0m \u001b[0mweight\u001b[0m\u001b[0;34m,\u001b[0m \u001b[0mbias\u001b[0m\u001b[0;34m)\u001b[0m\u001b[0;34m\u001b[0m\u001b[0;34m\u001b[0m\u001b[0m\n\u001b[0m\u001b[1;32m     65\u001b[0m \u001b[0;34m\u001b[0m\u001b[0m\n\u001b[1;32m     66\u001b[0m         \u001b[0;32mreturn\u001b[0m \u001b[0mout\u001b[0m\u001b[0;34m\u001b[0m\u001b[0;34m\u001b[0m\u001b[0m\n",
      "\u001b[0;31mRuntimeError\u001b[0m: CUDA out of memory. Tried to allocate 90.00 MiB (GPU 0; 15.75 GiB total capacity; 14.44 GiB already allocated; 78.88 MiB free; 254.47 MiB cached) (malloc at /opt/conda/conda-bld/pytorch_1573049306803/work/c10/cuda/CUDACachingAllocator.cpp:267)\nframe #0: c10::Error::Error(c10::SourceLocation, std::string const&) + 0x47 (0x7f3190977687 in /opt/anaconda3/lib/python3.7/site-packages/torch/lib/libc10.so)\nframe #1: <unknown function> + 0x1ea29 (0x7f3190bbaa29 in /opt/anaconda3/lib/python3.7/site-packages/torch/lib/libc10_cuda.so)\nframe #2: <unknown function> + 0x1fade (0x7f3190bbbade in /opt/anaconda3/lib/python3.7/site-packages/torch/lib/libc10_cuda.so)\nframe #3: at::native::empty_cuda(c10::ArrayRef<long>, c10::TensorOptions const&, c10::optional<c10::MemoryFormat>) + 0x26d (0x7f3162d5036d in /opt/anaconda3/lib/python3.7/site-packages/torch/lib/libtorch.so)\nframe #4: <unknown function> + 0x3d98d18 (0x7f3161341d18 in /opt/anaconda3/lib/python3.7/site-packages/torch/lib/libtorch.so)\nframe #5: <unknown function> + 0x3852408 (0x7f3160dfb408 in /opt/anaconda3/lib/python3.7/site-packages/torch/lib/libtorch.so)\nframe #6: <unknown function> + 0x17a5add (0x7f315ed4eadd in /opt/anaconda3/lib/python3.7/site-packages/torch/lib/libtorch.so)\nframe #7: at::native::empty_like(at::Tensor const&, c10::TensorOptions const&, c10::optional<c10::MemoryFormat>) + 0x4ab (0x7f315ed56e4b in /opt/anaconda3/lib/python3.7/site-packages/torch/lib/libtorch.so)\nframe #8: at::native::empty_like(at::Tensor const&) + 0x3d (0x7f315ed585cd in /opt/anaconda3/lib/python3.7/site-packages/torch/lib/libtorch.so)\nframe #9: <unknown function> + 0x1ac9459 (0x7f315f072459 in /opt/anaconda3/lib/python3.7/site-packages/torch/lib/libtorch.so)\nframe #10: <unknown function> + 0x341f91b (0x7f31609c891b in /opt/anaconda3/lib/python3.7/site-packages/torch/lib/libtorch.so)\nframe #11: <unknown function> + 0x19d3d9d (0x7f315ef7cd9d in /opt/anaconda3/lib/python3.7/site-packages/torch/lib/libtorch.so)\nframe #12: <unknown function> + 0x1d8b6 (0x7f31399638b6 in /opt/anaconda3/lib/python3.7/site-packages/syncbn.cpython-37m-x86_64-linux-gnu.so)\nframe #13: batchnorm_forward_CUDA(at::Tensor, at::Tensor, at::Tensor, c10::optional<at::Tensor>, c10::optional<at::Tensor>) + 0x5e (0x7f313996620e in /opt/anaconda3/lib/python3.7/site-packages/syncbn.cpython-37m-x86_64-linux-gnu.so)\nframe #14: <unknown function> + 0x19722 (0x7f313995f722 in /opt/anaconda3/lib/python3.7/site-packages/syncbn.cpython-37m-x86_64-linux-gnu.so)\nframe #15: <unknown function> + 0x198ae (0x7f313995f8ae in /opt/anaconda3/lib/python3.7/site-packages/syncbn.cpython-37m-x86_64-linux-gnu.so)\nframe #16: <unknown function> + 0x15fa4 (0x7f313995bfa4 in /opt/anaconda3/lib/python3.7/site-packages/syncbn.cpython-37m-x86_64-linux-gnu.so)\nframe #17: _PyMethodDef_RawFastCallKeywords + 0x254 (0x5639a8d73744 in /opt/anaconda3/bin/python)\nframe #18: _PyCFunction_FastCallKeywords + 0x21 (0x5639a8d73861 in /opt/anaconda3/bin/python)\nframe #19: _PyEval_EvalFrameDefault + 0x4ecd (0x5639a8ddf2bd in /opt/anaconda3/bin/python)\nframe #20: _PyEval_EvalCodeWithName + 0xac9 (0x5639a8d23d09 in /opt/anaconda3/bin/python)\nframe #21: _PyFunction_FastCallDict + 0x1d5 (0x5639a8d24635 in /opt/anaconda3/bin/python)\nframe #22: THPFunction_apply(_object*, _object*) + 0x8d6 (0x7f3191267086 in /opt/anaconda3/lib/python3.7/site-packages/torch/lib/libtorch_python.so)\nframe #23: _PyMethodDef_RawFastCallKeywords + 0x1f0 (0x5639a8d736e0 in /opt/anaconda3/bin/python)\nframe #24: _PyCFunction_FastCallKeywords + 0x21 (0x5639a8d73861 in /opt/anaconda3/bin/python)\nframe #25: _PyEval_EvalFrameDefault + 0x4ecd (0x5639a8ddf2bd in /opt/anaconda3/bin/python)\nframe #26: _PyEval_EvalCodeWithName + 0x2f9 (0x5639a8d23539 in /opt/anaconda3/bin/python)\nframe #27: _PyFunction_FastCallDict + 0x1d5 (0x5639a8d24635 in /opt/anaconda3/bin/python)\nframe #28: _PyObject_Call_Prepend + 0x63 (0x5639a8d42e53 in /opt/anaconda3/bin/python)\nframe #29: PyObject_Call + 0x6e (0x5639a8d35dbe in /opt/anaconda3/bin/python)\nframe #30: _PyEval_EvalFrameDefault + 0x1e42 (0x5639a8ddc232 in /opt/anaconda3/bin/python)\nframe #31: _PyEval_EvalCodeWithName + 0x2f9 (0x5639a8d23539 in /opt/anaconda3/bin/python)\nframe #32: _PyFunction_FastCallDict + 0x1d5 (0x5639a8d24635 in /opt/anaconda3/bin/python)\nframe #33: _PyObject_Call_Prepend + 0x63 (0x5639a8d42e53 in /opt/anaconda3/bin/python)\nframe #34: <unknown function> + 0x16ba3a (0x5639a8d7aa3a in /opt/anaconda3/bin/python)\nframe #35: _PyObject_FastCallKeywords + 0x49b (0x5639a8d7b8fb in /opt/anaconda3/bin/python)\nframe #36: _PyEval_EvalFrameDefault + 0x52f8 (0x5639a8ddf6e8 in /opt/anaconda3/bin/python)\nframe #37: _PyFunction_FastCallDict + 0x10b (0x5639a8d2456b in /opt/anaconda3/bin/python)\nframe #38: _PyObject_Call_Prepend + 0x63 (0x5639a8d42e53 in /opt/anaconda3/bin/python)\nframe #39: PyObject_Call + 0x6e (0x5639a8d35dbe in /opt/anaconda3/bin/python)\nframe #40: _PyEval_EvalFrameDefault + 0x1e42 (0x5639a8ddc232 in /opt/anaconda3/bin/python)\nframe #41: _PyEval_EvalCodeWithName + 0x2f9 (0x5639a8d23539 in /opt/anaconda3/bin/python)\nframe #42: _PyFunction_FastCallDict + 0x1d5 (0x5639a8d24635 in /opt/anaconda3/bin/python)\nframe #43: _PyObject_Call_Prepend + 0x63 (0x5639a8d42e53 in /opt/anaconda3/bin/python)\nframe #44: <unknown function> + 0x16ba3a (0x5639a8d7aa3a in /opt/anaconda3/bin/python)\nframe #45: _PyObject_FastCallKeywords + 0x49b (0x5639a8d7b8fb in /opt/anaconda3/bin/python)\nframe #46: _PyEval_EvalFrameDefault + 0x4a96 (0x5639a8ddee86 in /opt/anaconda3/bin/python)\nframe #47: _PyFunction_FastCallDict + 0x10b (0x5639a8d2456b in /opt/anaconda3/bin/python)\nframe #48: _PyObject_Call_Prepend + 0x63 (0x5639a8d42e53 in /opt/anaconda3/bin/python)\nframe #49: PyObject_Call + 0x6e (0x5639a8d35dbe in /opt/anaconda3/bin/python)\nframe #50: _PyEval_EvalFrameDefault + 0x1e42 (0x5639a8ddc232 in /opt/anaconda3/bin/python)\nframe #51: _PyEval_EvalCodeWithName + 0x2f9 (0x5639a8d23539 in /opt/anaconda3/bin/python)\nframe #52: _PyFunction_FastCallDict + 0x1d5 (0x5639a8d24635 in /opt/anaconda3/bin/python)\nframe #53: _PyObject_Call_Prepend + 0x63 (0x5639a8d42e53 in /opt/anaconda3/bin/python)\nframe #54: <unknown function> + 0x16ba3a (0x5639a8d7aa3a in /opt/anaconda3/bin/python)\nframe #55: _PyObject_FastCallKeywords + 0x49b (0x5639a8d7b8fb in /opt/anaconda3/bin/python)\nframe #56: _PyEval_EvalFrameDefault + 0x52f8 (0x5639a8ddf6e8 in /opt/anaconda3/bin/python)\nframe #57: _PyFunction_FastCallDict + 0x10b (0x5639a8d2456b in /opt/anaconda3/bin/python)\nframe #58: _PyObject_Call_Prepend + 0x63 (0x5639a8d42e53 in /opt/anaconda3/bin/python)\nframe #59: PyObject_Call + 0x6e (0x5639a8d35dbe in /opt/anaconda3/bin/python)\nframe #60: _PyEval_EvalFrameDefault + 0x1e42 (0x5639a8ddc232 in /opt/anaconda3/bin/python)\nframe #61: _PyEval_EvalCodeWithName + 0x2f9 (0x5639a8d23539 in /opt/anaconda3/bin/python)\nframe #62: _PyFunction_FastCallDict + 0x1d5 (0x5639a8d24635 in /opt/anaconda3/bin/python)\nframe #63: _PyObject_Call_Prepend + 0x63 (0x5639a8d42e53 in /opt/anaconda3/bin/python)\n"
     ]
    }
   ],
   "source": [
    "import datetime\n",
    "test_time = datetime.datetime.now()\n",
    "\n",
    "torch.cuda.synchronize()\n",
    "model.train()\n",
    "for _ in range(2):\n",
    "    _, inputs, labels = next(iter(tr_loader))\n",
    "    print(1)\n",
    "    inputs = inputs.cuda(non_blocking=True)        \n",
    "    labels = labels.cuda(non_blocking=True)    \n",
    "    print(2)    \n",
    "    logits = model(inputs)\n",
    "    print(3)                       \n",
    "    loss = criterion(logits, labels)                   \n",
    "    print(4)                   \n",
    "    loss.backward()\n",
    "    print(5)                            \n",
    "    model.zero_grad()\n",
    "    print(10)                                \n",
    "torch.cuda.synchronize()\n",
    "test_end = datetime.datetime.now() - test_time\n",
    "print('test {}'.format(test_end))"
   ]
  },
  {
   "cell_type": "code",
   "execution_count": 15,
   "metadata": {},
   "outputs": [],
   "source": [
    "class AverageMeter(object):\n",
    "    \"\"\"Computes and stores the average and current value\"\"\"\n",
    "    def __init__(self, name, fmt=':f'):\n",
    "        self.name = name\n",
    "        self.fmt = fmt\n",
    "        self.reset()\n",
    "\n",
    "    def reset(self):\n",
    "        self.val = 0\n",
    "        self.avg = 0\n",
    "        self.sum = 0\n",
    "        self.count = 0\n",
    "\n",
    "    def update(self, val, n=1):\n",
    "        self.val = val\n",
    "        self.sum += val * n\n",
    "        self.count += n\n",
    "        self.avg = self.sum / self.count\n",
    "\n",
    "    def __str__(self):\n",
    "        fmtstr = '{name} {val' + self.fmt + '} ({avg' + self.fmt + '})'\n",
    "        return fmtstr.format(**self.__dict__)\n",
    "\n",
    "\n",
    "class ProgressMeter(object):\n",
    "    def __init__(self, num_batches, meters, prefix=\"\"):\n",
    "        self.batch_fmtstr = self._get_batch_fmtstr(num_batches)\n",
    "        self.meters = meters\n",
    "        self.prefix = prefix\n",
    "\n",
    "    def display(self, batch):\n",
    "        entries = [self.prefix + self.batch_fmtstr.format(batch)]\n",
    "        entries += [str(meter) for meter in self.meters]\n",
    "        print('\\t'.join(entries))\n",
    "\n",
    "    def _get_batch_fmtstr(self, num_batches):\n",
    "        num_digits = len(str(num_batches // 1))\n",
    "        fmt = '{:' + str(num_digits) + 'd}'\n",
    "        return '[' + fmt + '/' + fmt.format(num_batches) + ']'"
   ]
  },
  {
   "cell_type": "code",
   "execution_count": 16,
   "metadata": {},
   "outputs": [],
   "source": [
    "def accuracy(output, target, topk=(1,)):\n",
    "    \"\"\"Computes the accuracy over the k top predictions for the specified values of k\"\"\"\n",
    "    with torch.no_grad():\n",
    "        maxk = max(topk)\n",
    "        batch_size = target.size(0)\n",
    "\n",
    "        _, pred = output.topk(maxk, 1, True, True)\n",
    "        pred = pred.t()\n",
    "        correct = pred.eq(target.view(1, -1).expand_as(pred))\n",
    "\n",
    "        res = []\n",
    "        for k in topk:\n",
    "            correct_k = correct[:k].view(-1).float().sum(0, keepdim=True)\n",
    "            res.append(correct_k.mul_(100.0 / batch_size))\n",
    "        return res"
   ]
  },
  {
   "cell_type": "code",
   "execution_count": 17,
   "metadata": {},
   "outputs": [],
   "source": [
    "scheduler = torch.optim.lr_scheduler.OneCycleLR(optimizer, max_lr=0.1, steps_per_epoch=len(tr_loader)\n",
    "                                                , epochs=30, pct_start=0.2)"
   ]
  },
  {
   "cell_type": "code",
   "execution_count": 18,
   "metadata": {},
   "outputs": [
    {
     "name": "stdout",
     "output_type": "stream",
     "text": [
      "Epoch: [0][ 99/365]\tBatch 56.150 (32.287)\tData 55.737 (31.930)\tLoss 4.70192 (4.87275)\tAcc@1   1.56 (  1.43)\tAcc@5  10.16 (  6.26)\tLearningRate 0.00449 (0.00417)\n",
      "Epoch: [0][199/365]\tBatch 107.303 (57.101)\tData 106.965 (56.742)\tLoss 4.42447 (4.69228)\tAcc@1   4.69 (  2.67)\tAcc@5  17.19 ( 10.13)\tLearningRate 0.00596 (0.00466)\n",
      "Epoch: [0][299/365]\tBatch 157.085 (82.088)\tData 156.737 (81.727)\tLoss 4.14706 (4.55699)\tAcc@1   4.30 (  3.80)\tAcc@5  24.61 ( 13.68)\tLearningRate 0.00838 (0.00548)\n",
      "0:03:03.524555 elapsed for 1\n",
      "Epoch: [1][ 99/365]\tBatch 60.160 (84.283)\tData 59.784 (83.925)\tLoss 3.88348 (4.36470)\tAcc@1  11.33 (  6.00)\tAcc@5  32.81 ( 19.33)\tLearningRate 0.01430 (0.00750)\n",
      "Epoch: [1][199/365]\tBatch 108.400 (84.135)\tData 107.970 (83.776)\tLoss 3.86043 (4.26291)\tAcc@1  11.33 (  7.23)\tAcc@5  36.72 ( 22.42)\tLearningRate 0.01893 (0.00910)\n",
      "Epoch: [1][299/365]\tBatch 155.428 (91.371)\tData 155.048 (91.012)\tLoss 3.55986 (4.16415)\tAcc@1  15.62 (  8.53)\tAcc@5  42.58 ( 25.33)\tLearningRate 0.02425 (0.01098)\n",
      "0:03:04.609301 elapsed for 2\n",
      "Epoch: [2][ 99/365]\tBatch 58.855 (90.770)\tData 58.514 (90.412)\tLoss 3.20731 (4.01563)\tAcc@1  19.14 ( 10.58)\tAcc@5  55.08 ( 29.58)\tLearningRate 0.03421 (0.01459)\n",
      "Epoch: [2][199/365]\tBatch 104.726 (89.760)\tData 104.351 (89.401)\tLoss 3.10413 (3.92858)\tAcc@1  25.00 ( 11.93)\tAcc@5  56.64 ( 32.03)\tLearningRate 0.04077 (0.01705)\n",
      "Epoch: [2][299/365]\tBatch 155.803 (93.805)\tData 155.377 (93.446)\tLoss 2.96607 (3.84370)\tAcc@1  30.08 ( 13.23)\tAcc@5  57.81 ( 34.39)\tLearningRate 0.04756 (0.01969)\n",
      "0:03:04.469417 elapsed for 3\n",
      "Epoch: [3][ 99/365]\tBatch 58.021 (93.011)\tData 57.646 (92.652)\tLoss 3.00763 (3.70784)\tAcc@1  26.56 ( 15.45)\tAcc@5  57.42 ( 38.05)\tLearningRate 0.05890 (0.02433)\n",
      "Epoch: [3][199/365]\tBatch 107.353 (92.277)\tData 106.990 (91.918)\tLoss 2.59043 (3.62882)\tAcc@1  33.20 ( 16.78)\tAcc@5  67.19 ( 40.13)\tLearningRate 0.06562 (0.02726)\n",
      "Epoch: [3][299/365]\tBatch 157.249 (95.148)\tData 156.882 (94.789)\tLoss 2.59244 (3.55422)\tAcc@1  35.94 ( 18.08)\tAcc@5  68.36 ( 42.04)\tLearningRate 0.07207 (0.03024)\n",
      "0:03:03.887681 elapsed for 4\n",
      "Epoch: [4][ 99/365]\tBatch 58.745 (94.471)\tData 58.407 (94.112)\tLoss 2.52690 (3.43529)\tAcc@1  34.77 ( 20.18)\tAcc@5  67.97 ( 45.01)\tLearningRate 0.08173 (0.03519)\n",
      "Epoch: [4][199/365]\tBatch 110.054 (93.884)\tData 109.717 (93.525)\tLoss 2.44233 (3.36741)\tAcc@1  36.72 ( 21.41)\tAcc@5  68.36 ( 46.68)\tLearningRate 0.08682 (0.03816)\n",
      "Epoch: [4][299/365]\tBatch 154.823 (96.128)\tData 154.485 (95.768)\tLoss 2.32386 (3.30418)\tAcc@1  43.75 ( 22.57)\tAcc@5  71.48 ( 48.23)\tLearningRate 0.09119 (0.04105)\n",
      "0:03:02.626761 elapsed for 5\n",
      "Epoch: [5][ 99/365]\tBatch 57.702 (95.372)\tData 57.348 (95.012)\tLoss 1.90119 (3.20453)\tAcc@1  48.44 ( 24.46)\tAcc@5  78.52 ( 50.57)\tLearningRate 0.09660 (0.04560)\n",
      "Epoch: [5][199/365]\tBatch 109.770 (94.800)\tData 109.416 (94.440)\tLoss 2.10784 (3.14703)\tAcc@1  47.27 ( 25.58)\tAcc@5  75.78 ( 51.91)\tLearningRate 0.09868 (0.04817)\n",
      "Epoch: [5][299/365]\tBatch 157.150 (96.607)\tData 156.801 (96.246)\tLoss 1.90317 (3.09203)\tAcc@1  50.78 ( 26.66)\tAcc@5  78.52 ( 53.16)\tLearningRate 0.09980 (0.05058)\n",
      "0:03:05.006673 elapsed for 6\n",
      "Epoch: [6][ 99/365]\tBatch 55.226 (95.909)\tData 54.888 (95.548)\tLoss 1.75953 (3.01032)\tAcc@1  55.08 ( 28.25)\tAcc@5  81.64 ( 55.00)\tLearningRate 0.09997 (0.05414)\n",
      "Epoch: [6][199/365]\tBatch 105.620 (95.269)\tData 105.280 (94.909)\tLoss 1.77767 (2.96291)\tAcc@1  55.86 ( 29.17)\tAcc@5  80.08 ( 56.05)\tLearningRate 0.09987 (0.05605)\n",
      "Epoch: [6][299/365]\tBatch 154.556 (96.612)\tData 154.218 (96.252)\tLoss 2.01924 (2.91701)\tAcc@1  50.78 ( 30.08)\tAcc@5  78.52 ( 57.06)\tLearningRate 0.09971 (0.05781)\n",
      "0:03:02.713204 elapsed for 7\n",
      "Epoch: [7][ 99/365]\tBatch 59.207 (96.040)\tData 58.854 (95.680)\tLoss 1.77287 (2.84438)\tAcc@1  51.56 ( 31.57)\tAcc@5  82.81 ( 58.63)\tLearningRate 0.09930 (0.06040)\n",
      "Epoch: [7][199/365]\tBatch 107.413 (95.565)\tData 107.017 (95.205)\tLoss 1.63446 (2.80292)\tAcc@1  55.86 ( 32.41)\tAcc@5  80.47 ( 59.51)\tLearningRate 0.09897 (0.06181)\n",
      "Epoch: [7][299/365]\tBatch 154.978 (96.856)\tData 154.636 (96.496)\tLoss 1.91303 (2.76357)\tAcc@1  53.12 ( 33.22)\tAcc@5  76.56 ( 60.34)\tLearningRate 0.09858 (0.06310)\n",
      "0:03:04.030279 elapsed for 8\n",
      "Epoch: [8][ 99/365]\tBatch 57.409 (96.336)\tData 56.999 (95.976)\tLoss 1.44372 (2.70003)\tAcc@1  57.81 ( 34.52)\tAcc@5  86.72 ( 61.67)\tLearningRate 0.09780 (0.06502)\n",
      "Epoch: [8][199/365]\tBatch 107.417 (95.888)\tData 106.952 (95.527)\tLoss 1.61720 (2.66462)\tAcc@1  54.30 ( 35.26)\tAcc@5  83.59 ( 62.40)\tLearningRate 0.09724 (0.06606)\n",
      "Epoch: [8][299/365]\tBatch 155.120 (96.977)\tData 154.782 (96.616)\tLoss 1.80454 (2.63075)\tAcc@1  52.34 ( 35.95)\tAcc@5  80.86 ( 63.11)\tLearningRate 0.09662 (0.06702)\n",
      "0:03:02.547740 elapsed for 9\n",
      "Epoch: [9][ 99/365]\tBatch 59.379 (96.526)\tData 59.040 (96.165)\tLoss 1.57678 (2.57555)\tAcc@1  62.50 ( 37.11)\tAcc@5  83.20 ( 64.22)\tLearningRate 0.09547 (0.06844)\n",
      "Epoch: [9][199/365]\tBatch 105.015 (96.099)\tData 104.666 (95.738)\tLoss 1.63866 (2.54489)\tAcc@1  58.20 ( 37.76)\tAcc@5  84.38 ( 64.85)\tLearningRate 0.09470 (0.06920)\n",
      "Epoch: [9][299/365]\tBatch 153.828 (97.035)\tData 153.428 (96.675)\tLoss 1.35899 (2.51559)\tAcc@1  62.11 ( 38.38)\tAcc@5  87.89 ( 65.44)\tLearningRate 0.09386 (0.06990)\n",
      "0:03:01.178468 elapsed for 10\n",
      "Epoch: [10][ 99/365]\tBatch 56.009 (96.536)\tData 55.657 (96.176)\tLoss 1.37229 (2.46806)\tAcc@1  62.11 ( 39.38)\tAcc@5  87.50 ( 66.39)\tLearningRate 0.09237 (0.07092)\n",
      "Epoch: [10][199/365]\tBatch 106.974 (96.151)\tData 106.635 (95.791)\tLoss 1.42113 (2.44044)\tAcc@1  55.86 ( 39.97)\tAcc@5  89.45 ( 66.94)\tLearningRate 0.09139 (0.07147)\n",
      "Epoch: [10][299/365]\tBatch 156.589 (97.053)\tData 156.235 (96.692)\tLoss 1.42009 (2.41430)\tAcc@1  60.55 ( 40.52)\tAcc@5  88.28 ( 67.45)\tLearningRate 0.09036 (0.07196)\n",
      "0:03:03.795226 elapsed for 11\n",
      "Epoch: [11][ 99/365]\tBatch 59.244 (96.686)\tData 58.906 (96.325)\tLoss 1.45089 (2.37203)\tAcc@1  62.11 ( 41.44)\tAcc@5  85.16 ( 68.27)\tLearningRate 0.08854 (0.07266)\n",
      "Epoch: [11][199/365]\tBatch 105.350 (96.356)\tData 104.962 (95.996)\tLoss 1.28221 (2.34797)\tAcc@1  65.62 ( 41.96)\tAcc@5  88.67 ( 68.73)\tLearningRate 0.08737 (0.07302)\n",
      "Epoch: [11][299/365]\tBatch 153.530 (97.129)\tData 153.177 (96.768)\tLoss 1.26313 (2.32418)\tAcc@1  63.67 ( 42.48)\tAcc@5  89.06 ( 69.19)\tLearningRate 0.08616 (0.07334)\n",
      "0:03:01.824624 elapsed for 12\n",
      "Epoch: [12][ 99/365]\tBatch 57.215 (96.714)\tData 56.854 (96.354)\tLoss 1.12693 (2.28682)\tAcc@1  70.31 ( 43.29)\tAcc@5  87.50 ( 69.90)\tLearningRate 0.08405 (0.07377)\n",
      "Epoch: [12][199/365]\tBatch 103.924 (96.368)\tData 103.577 (96.008)\tLoss 1.17344 (2.26506)\tAcc@1  69.14 ( 43.76)\tAcc@5  91.02 ( 70.31)\tLearningRate 0.08272 (0.07398)\n",
      "Epoch: [12][299/365]\tBatch 155.037 (97.080)\tData 154.637 (96.719)\tLoss 1.31116 (2.24437)\tAcc@1  64.06 ( 44.21)\tAcc@5  88.67 ( 70.71)\tLearningRate 0.08134 (0.07416)\n",
      "0:03:03.149508 elapsed for 13\n",
      "Epoch: [13][ 99/365]\tBatch 58.681 (96.750)\tData 58.295 (96.389)\tLoss 1.26610 (2.21012)\tAcc@1  67.19 ( 44.97)\tAcc@5  89.84 ( 71.35)\tLearningRate 0.07898 (0.07436)\n",
      "Epoch: [13][199/365]\tBatch 107.762 (96.471)\tData 107.424 (96.111)\tLoss 1.28900 (2.19004)\tAcc@1  66.02 ( 45.41)\tAcc@5  87.11 ( 71.72)\tLearningRate 0.07750 (0.07444)\n",
      "Epoch: [13][299/365]\tBatch 155.999 (97.185)\tData 155.620 (96.825)\tLoss 1.33221 (2.17135)\tAcc@1  64.45 ( 45.82)\tAcc@5  87.50 ( 72.07)\tLearningRate 0.07599 (0.07448)\n",
      "0:03:03.218921 elapsed for 14\n",
      "Epoch: [14][ 99/365]\tBatch 61.157 (96.888)\tData 60.807 (96.528)\tLoss 1.33943 (2.14062)\tAcc@1  64.84 ( 46.50)\tAcc@5  89.45 ( 72.64)\tLearningRate 0.07342 (0.07449)\n",
      "Epoch: [14][199/365]\tBatch 104.356 (96.609)\tData 103.988 (96.248)\tLoss 1.31850 (2.12256)\tAcc@1  64.84 ( 46.90)\tAcc@5  89.45 ( 72.97)\tLearningRate 0.07182 (0.07446)\n",
      "Epoch: [14][299/365]\tBatch 153.456 (97.203)\tData 153.104 (96.843)\tLoss 1.15215 (2.10521)\tAcc@1  67.19 ( 47.29)\tAcc@5  91.41 ( 73.29)\tLearningRate 0.07019 (0.07439)\n",
      "0:03:01.889271 elapsed for 15\n",
      "Epoch: [15][ 99/365]\tBatch 59.119 (96.912)\tData 58.755 (96.552)\tLoss 1.08539 (2.07648)\tAcc@1  71.88 ( 47.93)\tAcc@5  92.19 ( 73.81)\tLearningRate 0.06745 (0.07423)\n",
      "Epoch: [15][199/365]\tBatch 107.427 (96.670)\tData 107.044 (96.310)\tLoss 1.08709 (2.06007)\tAcc@1  73.83 ( 48.30)\tAcc@5  91.80 ( 74.10)\tLearningRate 0.06576 (0.07409)\n",
      "Epoch: [15][299/365]\tBatch 154.731 (97.272)\tData 154.370 (96.912)\tLoss 1.00735 (2.04426)\tAcc@1  74.22 ( 48.65)\tAcc@5  91.41 ( 74.39)\tLearningRate 0.06405 (0.07393)\n",
      "0:03:02.331001 elapsed for 16\n",
      "Epoch: [16][ 99/365]\tBatch 56.663 (96.958)\tData 56.313 (96.598)\tLoss 1.16668 (2.01822)\tAcc@1  71.48 ( 49.23)\tAcc@5  90.23 ( 74.85)\tLearningRate 0.06118 (0.07362)\n",
      "Epoch: [16][199/365]\tBatch 107.175 (96.718)\tData 106.826 (96.358)\tLoss 1.01536 (2.00300)\tAcc@1  70.31 ( 49.57)\tAcc@5  91.41 ( 75.12)\tLearningRate 0.05943 (0.07340)\n",
      "Epoch: [16][299/365]\tBatch 155.016 (97.262)\tData 154.639 (96.902)\tLoss 1.29640 (1.98832)\tAcc@1  67.97 ( 49.90)\tAcc@5  87.89 ( 75.38)\tLearningRate 0.05766 (0.07316)\n",
      "0:03:02.756872 elapsed for 17\n",
      "Epoch: [17][ 99/365]\tBatch 56.951 (96.996)\tData 56.589 (96.636)\tLoss 1.19962 (1.96421)\tAcc@1  68.75 ( 50.43)\tAcc@5  90.23 ( 75.80)\tLearningRate 0.05473 (0.07271)\n",
      "Epoch: [17][199/365]\tBatch 105.833 (96.767)\tData 105.445 (96.407)\tLoss 0.99979 (1.95008)\tAcc@1  73.44 ( 50.75)\tAcc@5  92.19 ( 76.05)\tLearningRate 0.05294 (0.07242)\n",
      "Epoch: [17][299/365]\tBatch 155.908 (97.290)\tData 155.571 (96.929)\tLoss 0.95046 (1.93626)\tAcc@1  74.61 ( 51.06)\tAcc@5  92.58 ( 76.29)\tLearningRate 0.05115 (0.07210)\n",
      "0:03:03.813155 elapsed for 18\n",
      "Epoch: [18][ 99/365]\tBatch 61.281 (97.034)\tData 60.928 (96.674)\tLoss 0.87850 (1.91356)\tAcc@1  76.17 ( 51.57)\tAcc@5  94.14 ( 76.68)\tLearningRate 0.04819 (0.07155)\n",
      "Epoch: [18][199/365]\tBatch 107.711 (96.837)\tData 107.373 (96.477)\tLoss 0.93233 (1.90013)\tAcc@1  74.22 ( 51.88)\tAcc@5  92.97 ( 76.91)\tLearningRate 0.04640 (0.07119)\n",
      "Epoch: [18][299/365]\tBatch 156.329 (97.371)\tData 155.964 (97.011)\tLoss 1.23608 (1.88725)\tAcc@1  68.75 ( 52.17)\tAcc@5  87.89 ( 77.14)\tLearningRate 0.04461 (0.07082)\n",
      "0:03:04.324940 elapsed for 19\n",
      "Epoch: [19][ 99/365]\tBatch 60.093 (97.162)\tData 59.680 (96.802)\tLoss 1.06098 (1.86595)\tAcc@1  71.48 ( 52.66)\tAcc@5  89.84 ( 77.50)\tLearningRate 0.04168 (0.07017)\n",
      "Epoch: [19][199/365]\tBatch 106.820 (96.971)\tData 106.472 (96.611)\tLoss 0.97225 (1.85318)\tAcc@1  72.27 ( 52.95)\tAcc@5  94.14 ( 77.71)\tLearningRate 0.03992 (0.06976)\n",
      "Epoch: [19][299/365]\tBatch 156.288 (97.449)\tData 155.772 (97.089)\tLoss 0.98878 (1.84091)\tAcc@1  73.44 ( 53.23)\tAcc@5  94.53 ( 77.91)\tLearningRate 0.03817 (0.06933)\n",
      "0:03:05.092539 elapsed for 20\n",
      "Epoch: [20][ 99/365]\tBatch 56.955 (97.237)\tData 56.611 (96.877)\tLoss 0.82191 (1.82052)\tAcc@1  75.39 ( 53.69)\tAcc@5  94.14 ( 78.25)\tLearningRate 0.03532 (0.06860)\n",
      "Epoch: [20][199/365]\tBatch 108.263 (97.040)\tData 107.859 (96.680)\tLoss 1.15806 (1.80839)\tAcc@1  70.31 ( 53.97)\tAcc@5  91.02 ( 78.45)\tLearningRate 0.03361 (0.06815)\n",
      "Epoch: [20][299/365]\tBatch 157.202 (97.499)\tData 156.795 (97.139)\tLoss 0.97278 (1.79661)\tAcc@1  73.44 ( 54.24)\tAcc@5  91.80 ( 78.64)\tLearningRate 0.03193 (0.06768)\n",
      "0:03:04.267422 elapsed for 21\n",
      "Epoch: [21][ 99/365]\tBatch 57.413 (97.281)\tData 57.028 (96.921)\tLoss 0.87434 (1.77703)\tAcc@1  75.39 ( 54.69)\tAcc@5  93.75 ( 78.96)\tLearningRate 0.02921 (0.06689)\n",
      "Epoch: [21][199/365]\tBatch 106.259 (97.090)\tData 105.902 (96.730)\tLoss 0.86806 (1.76541)\tAcc@1  78.91 ( 54.96)\tAcc@5  94.14 ( 79.15)\tLearningRate 0.02759 (0.06640)\n",
      "Epoch: [21][299/365]\tBatch 156.610 (97.516)\tData 156.240 (97.156)\tLoss 0.90867 (1.75429)\tAcc@1  75.39 ( 55.22)\tAcc@5  92.19 ( 79.33)\tLearningRate 0.02600 (0.06591)\n",
      "0:03:04.342745 elapsed for 22\n",
      "Epoch: [22][ 99/365]\tBatch 58.400 (97.324)\tData 58.049 (96.965)\tLoss 0.80406 (1.73589)\tAcc@1  77.73 ( 55.65)\tAcc@5  95.31 ( 79.62)\tLearningRate 0.02345 (0.06507)\n",
      "Epoch: [22][199/365]\tBatch 107.996 (97.156)\tData 107.657 (96.796)\tLoss 0.84577 (1.72489)\tAcc@1  81.25 ( 55.91)\tAcc@5  92.19 ( 79.80)\tLearningRate 0.02195 (0.06456)\n",
      "Epoch: [22][299/365]\tBatch 156.756 (97.583)\tData 156.389 (97.223)\tLoss 0.77042 (1.71409)\tAcc@1  78.12 ( 56.16)\tAcc@5  97.27 ( 79.97)\tLearningRate 0.02048 (0.06404)\n",
      "0:03:05.733175 elapsed for 23\n",
      "Epoch: [23][ 99/365]\tBatch 57.315 (97.407)\tData 56.959 (97.047)\tLoss 0.68505 (1.69605)\tAcc@1  79.69 ( 56.59)\tAcc@5  96.88 ( 80.25)\tLearningRate 0.01815 (0.06317)\n",
      "Epoch: [23][199/365]\tBatch 102.579 (97.198)\tData 102.234 (96.838)\tLoss 0.74488 (1.68514)\tAcc@1  82.42 ( 56.84)\tAcc@5  94.92 ( 80.42)\tLearningRate 0.01678 (0.06263)\n",
      "Epoch: [23][299/365]\tBatch 154.279 (97.568)\tData 153.937 (97.208)\tLoss 0.81102 (1.67448)\tAcc@1  77.73 ( 57.09)\tAcc@5  94.14 ( 80.58)\tLearningRate 0.01547 (0.06210)\n",
      "0:03:02.628890 elapsed for 24\n",
      "Epoch: [24][ 99/365]\tBatch 56.131 (97.358)\tData 55.794 (96.998)\tLoss 0.77758 (1.65677)\tAcc@1  75.78 ( 57.51)\tAcc@5  94.14 ( 80.85)\tLearningRate 0.01339 (0.06121)\n",
      "Epoch: [24][199/365]\tBatch 106.664 (97.182)\tData 106.326 (96.822)\tLoss 0.82255 (1.64637)\tAcc@1  80.47 ( 57.76)\tAcc@5  95.31 ( 81.01)\tLearningRate 0.01219 (0.06067)\n",
      "Epoch: [24][299/365]\tBatch 157.110 (97.566)\tData 156.738 (97.206)\tLoss 0.70135 (1.63599)\tAcc@1  80.47 ( 58.01)\tAcc@5  93.75 ( 81.16)\tLearningRate 0.01104 (0.06013)\n",
      "0:03:03.737784 elapsed for 25\n",
      "Epoch: [25][ 99/365]\tBatch 56.631 (97.371)\tData 56.292 (97.011)\tLoss 0.68123 (1.61870)\tAcc@1  80.08 ( 58.42)\tAcc@5  95.70 ( 81.42)\tLearningRate 0.00926 (0.05924)\n",
      "Epoch: [25][199/365]\tBatch 107.596 (97.218)\tData 107.207 (96.859)\tLoss 0.71066 (1.60840)\tAcc@1  79.69 ( 58.67)\tAcc@5  95.31 ( 81.57)\tLearningRate 0.00824 (0.05869)\n",
      "Epoch: [25][299/365]\tBatch 155.332 (97.578)\tData 154.948 (97.218)\tLoss 0.58358 (1.59828)\tAcc@1  84.77 ( 58.91)\tAcc@5  95.70 ( 81.72)\tLearningRate 0.00728 (0.05815)\n",
      "0:03:04.530998 elapsed for 26\n",
      "Epoch: [26][ 99/365]\tBatch 60.087 (97.414)\tData 59.749 (97.054)\tLoss 0.48562 (1.58156)\tAcc@1  86.33 ( 59.32)\tAcc@5  97.27 ( 81.96)\tLearningRate 0.00582 (0.05727)\n",
      "Epoch: [26][199/365]\tBatch 108.583 (97.263)\tData 108.225 (96.903)\tLoss 0.60906 (1.57166)\tAcc@1  82.81 ( 59.56)\tAcc@5  97.66 ( 82.10)\tLearningRate 0.00501 (0.05673)\n",
      "Epoch: [26][299/365]\tBatch 156.822 (97.628)\tData 156.457 (97.268)\tLoss 0.52369 (1.56186)\tAcc@1  87.50 ( 59.80)\tAcc@5  96.09 ( 82.24)\tLearningRate 0.00426 (0.05620)\n",
      "0:03:04.252633 elapsed for 27\n",
      "Epoch: [27][ 99/365]\tBatch 57.876 (97.457)\tData 57.515 (97.097)\tLoss 0.54177 (1.54558)\tAcc@1  84.38 ( 60.19)\tAcc@5  96.09 ( 82.48)\tLearningRate 0.00314 (0.05533)\n",
      "Epoch: [27][199/365]\tBatch 106.384 (97.305)\tData 105.964 (96.945)\tLoss 0.72175 (1.53591)\tAcc@1  83.20 ( 60.43)\tAcc@5  91.80 ( 82.61)\tLearningRate 0.00255 (0.05481)\n",
      "Epoch: [27][299/365]\tBatch 157.000 (97.641)\tData 156.660 (97.281)\tLoss 0.55107 (1.52631)\tAcc@1  85.94 ( 60.67)\tAcc@5  95.70 ( 82.75)\tLearningRate 0.00201 (0.05429)\n",
      "0:03:03.218096 elapsed for 28\n",
      "Epoch: [28][ 99/365]\tBatch 58.997 (97.473)\tData 58.612 (97.113)\tLoss 0.47461 (1.51067)\tAcc@1  85.16 ( 61.05)\tAcc@5  98.83 ( 82.96)\tLearningRate 0.00127 (0.05345)\n",
      "Epoch: [28][199/365]\tBatch 108.588 (97.335)\tData 108.250 (96.976)\tLoss 0.53430 (1.50134)\tAcc@1  85.55 ( 61.28)\tAcc@5  96.88 ( 83.09)\tLearningRate 0.00090 (0.05294)\n",
      "Epoch: [28][299/365]\tBatch 155.490 (97.661)\tData 155.147 (97.301)\tLoss 0.46387 (1.49218)\tAcc@1  87.50 ( 61.51)\tAcc@5  97.27 ( 83.22)\tLearningRate 0.00059 (0.05245)\n",
      "0:03:03.990086 elapsed for 29\n",
      "Epoch: [29][ 99/365]\tBatch 58.231 (97.508)\tData 57.834 (97.149)\tLoss 0.50059 (1.47740)\tAcc@1  84.38 ( 61.87)\tAcc@5  96.88 ( 83.42)\tLearningRate 0.00022 (0.05164)\n",
      "Epoch: [29][199/365]\tBatch 106.966 (97.370)\tData 106.501 (97.011)\tLoss 0.52220 (1.46871)\tAcc@1  86.33 ( 62.09)\tAcc@5  96.88 ( 83.54)\tLearningRate 0.00009 (0.05117)\n",
      "Epoch: [29][299/365]\tBatch 154.874 (97.677)\tData 154.474 (97.317)\tLoss 0.57212 (1.46016)\tAcc@1  85.94 ( 62.30)\tAcc@5  95.31 ( 83.66)\tLearningRate 0.00001 (0.05070)\n",
      "0:03:02.846735 elapsed for 30\n",
      "Finished Training\n"
     ]
    }
   ],
   "source": [
    "import datetime\n",
    "import time\n",
    "high = 0.0\n",
    "epoch_time = AverageMeter('Epoch', ':6.3f')\n",
    "batch_time = AverageMeter('Batch', ':6.3f')\n",
    "data_time = AverageMeter('Data', ':6.3f')\n",
    "losses = AverageMeter('Loss', ':.5f')\n",
    "learning_rates = AverageMeter('LearningRate', ':.5f')\n",
    "top1 = AverageMeter('Acc@1', ':6.2f')\n",
    "top5 = AverageMeter('Acc@5', ':6.2f')\n",
    "\n",
    "for epoch in range(30):  # loop over the dataset multiple times\n",
    "    time_ = datetime.datetime.now()    \n",
    "    model.train()\n",
    "    running_loss = 0.0\n",
    "    running_corrects = 0\n",
    "    total = 0\n",
    "    progress = ProgressMeter(\n",
    "        len(tr_loader),\n",
    "        [batch_time, data_time, losses, top1, top5, learning_rates],\n",
    "        prefix=\"Epoch: [{}]\".format(epoch))\n",
    "    \n",
    "    end = time.time()    \n",
    "    for i, (_, inputs, labels) in enumerate(tr_loader, 0):\n",
    "        # get the inputs; data is a list of [inputs, labels]\n",
    "        #print(inputs.shape)\n",
    "        #print(labels.shape)\n",
    "        data_time.update(time.time() - end)\n",
    "        inputs = inputs.cuda(non_blocking=True)\n",
    "        labels = labels.cuda(non_blocking=True)\n",
    "\n",
    "        # zero the parameter gradients\n",
    "        optimizer.zero_grad()\n",
    "\n",
    "        # forward + backward + optimize\n",
    "        outputs = model(inputs)\n",
    "        loss = criterion(outputs, labels)\n",
    "\n",
    "        #_, preds = torch.max(outputs, 1)\n",
    "        #loss.backward()\n",
    "        with amp.scale_loss(loss, optimizer) as scaled_loss:\n",
    "            scaled_loss.backward()\n",
    "            \n",
    "        optimizer.step()\n",
    "        scheduler.step()\n",
    "        # print statistics\n",
    "        acc1, acc5 = accuracy(outputs, labels, topk=(1, 5))\n",
    "        losses.update(loss.item(), inputs.size(0))\n",
    "        learning_rates.update(scheduler.get_lr()[0])        \n",
    "        top1.update(acc1[0], inputs.size(0))\n",
    "        top5.update(acc5[0], inputs.size(0))\n",
    "\n",
    "        \n",
    "        batch_time.update(time.time() - end)\n",
    "        if i % 100 == 99:    # print every 2000 mini-batches\n",
    "            progress.display(i)\n",
    "            #running_loss = 0.0\n",
    "    elapsed = datetime.datetime.now() - time_\n",
    "    print('{} elapsed for {}'.format(elapsed, epoch+1))\n",
    "\n",
    "    \n",
    "print('Finished Training')"
   ]
  },
  {
   "cell_type": "code",
   "execution_count": 19,
   "metadata": {},
   "outputs": [],
   "source": [
    "torch.save({\n",
    "            'epoch': epoch,\n",
    "            'model_state_dict': model.state_dict(),\n",
    "            'optimizer_state_dict': optimizer.state_dict(),\n",
    "            'scheduler_state_dict': scheduler.state_dict(),\n",
    "            'loss': loss,    \n",
    "    \n",
    "}, './checkpoint/resnet50_fp16_sconv_ep030.b0.pth')"
   ]
  },
  {
   "cell_type": "code",
   "execution_count": 20,
   "metadata": {},
   "outputs": [],
   "source": [
    "def classification_val(model, val_loader):\n",
    "    correct = 0\n",
    "    total = 0    \n",
    "    \n",
    "    model.eval()\n",
    "    with torch.no_grad():\n",
    "        for data in val_loader:\n",
    "            _, images, labels = data\n",
    "            images = images.to(device)\n",
    "            labels = labels.to(device)\n",
    "            outputs = model(images)\n",
    "            _, predicted = torch.max(outputs.data, 1)\n",
    "            total += labels.size(0)\n",
    "            correct += (predicted == labels).sum().item()\n",
    "\n",
    "    return correct/total"
   ]
  },
  {
   "cell_type": "code",
   "execution_count": 21,
   "metadata": {},
   "outputs": [],
   "source": [
    "cls_results = [classification_val(model, val_loader) for i in range(10)]"
   ]
  },
  {
   "cell_type": "code",
   "execution_count": 22,
   "metadata": {},
   "outputs": [
    {
     "data": {
      "text/plain": [
       "0.7725380612834843"
      ]
     },
     "execution_count": 22,
     "metadata": {},
     "output_type": "execute_result"
    }
   ],
   "source": [
    "np.mean(cls_results)"
   ]
  },
  {
   "cell_type": "code",
   "execution_count": 23,
   "metadata": {},
   "outputs": [
    {
     "data": {
      "text/plain": [
       "6.425454679560811e-06"
      ]
     },
     "execution_count": 23,
     "metadata": {},
     "output_type": "execute_result"
    }
   ],
   "source": [
    "np.var(cls_results)"
   ]
  },
  {
   "cell_type": "code",
   "execution_count": 24,
   "metadata": {},
   "outputs": [
    {
     "data": {
      "text/plain": [
       "0.0025348480584762496"
      ]
     },
     "execution_count": 24,
     "metadata": {},
     "output_type": "execute_result"
    }
   ],
   "source": [
    "np.std(cls_results)"
   ]
  },
  {
   "cell_type": "code",
   "execution_count": 25,
   "metadata": {},
   "outputs": [],
   "source": [
    "def val_retrieval(model, val_loader):\n",
    "    feats = None\n",
    "    data_ids = None\n",
    "\n",
    "    model.eval()\n",
    "    with torch.no_grad():\n",
    "        for idx, (_, images, labels) in enumerate(val_loader):\n",
    "            images = images.to(device)\n",
    "            #labels = labels.to(device)\n",
    "\n",
    "            feat = model(images, feature=True)\n",
    "            feat = feat.detach().cpu().numpy()\n",
    "\n",
    "            feat = feat/np.linalg.norm(feat, axis=1)[:, np.newaxis]\n",
    "\n",
    "            if feats is None:\n",
    "                feats = feat\n",
    "            else:\n",
    "                feats = np.append(feats, feat, axis=0)\n",
    "\n",
    "            if data_ids is None:\n",
    "                data_ids = labels\n",
    "            else:\n",
    "                data_ids = np.append(data_ids, labels, axis=0)\n",
    "\n",
    "        score_matrix = feats.dot(feats.T)\n",
    "        np.fill_diagonal(score_matrix, -np.inf)\n",
    "        top1_reference_indices = np.argmax(score_matrix, axis=1)\n",
    "\n",
    "        top1_reference_ids = [\n",
    "            [data_ids[idx], data_ids[top1_reference_indices[idx]]] for idx in\n",
    "            range(len(data_ids))]\n",
    "\n",
    "    total_count = len(top1_reference_ids)\n",
    "    correct = 0\n",
    "    for ids in top1_reference_ids:\n",
    "        if ids[0] == ids[1]:\n",
    "            correct += 1        \n",
    "    return correct/total_count"
   ]
  },
  {
   "cell_type": "code",
   "execution_count": 26,
   "metadata": {},
   "outputs": [],
   "source": [
    "retrieval_result = [val_retrieval(model, val_loader) for i in range(10)]"
   ]
  },
  {
   "cell_type": "code",
   "execution_count": 27,
   "metadata": {},
   "outputs": [
    {
     "data": {
      "text/plain": [
       "0.6178358065137791"
      ]
     },
     "execution_count": 27,
     "metadata": {},
     "output_type": "execute_result"
    }
   ],
   "source": [
    "np.mean(retrieval_result)"
   ]
  },
  {
   "cell_type": "code",
   "execution_count": 28,
   "metadata": {},
   "outputs": [
    {
     "data": {
      "text/plain": [
       "0.0038908581994208"
      ]
     },
     "execution_count": 28,
     "metadata": {},
     "output_type": "execute_result"
    }
   ],
   "source": [
    "np.std(retrieval_result)"
   ]
  },
  {
   "cell_type": "code",
   "execution_count": 29,
   "metadata": {},
   "outputs": [
    {
     "data": {
      "text/plain": [
       "[0.6151474272499519,\n",
       " 0.6104259009443053,\n",
       " 0.615436500289073,\n",
       " 0.6237232607438813,\n",
       " 0.6200616689150126,\n",
       " 0.6146656388514165,\n",
       " 0.6214106764309115,\n",
       " 0.6160146463673155,\n",
       " 0.6200616689150126,\n",
       " 0.6214106764309115]"
      ]
     },
     "execution_count": 29,
     "metadata": {},
     "output_type": "execute_result"
    }
   ],
   "source": [
    "retrieval_result"
   ]
  },
  {
   "cell_type": "code",
   "execution_count": null,
   "metadata": {},
   "outputs": [],
   "source": []
  }
 ],
 "metadata": {
  "kernelspec": {
   "display_name": "Python 3",
   "language": "python",
   "name": "python3"
  },
  "language_info": {
   "codemirror_mode": {
    "name": "ipython",
    "version": 3
   },
   "file_extension": ".py",
   "mimetype": "text/x-python",
   "name": "python",
   "nbconvert_exporter": "python",
   "pygments_lexer": "ipython3",
   "version": "3.7.4"
  }
 },
 "nbformat": 4,
 "nbformat_minor": 4
}
